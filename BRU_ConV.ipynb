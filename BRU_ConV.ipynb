{
  "nbformat": 4,
  "nbformat_minor": 0,
  "metadata": {
    "colab": {
      "name": "BRU_ConV.ipynb",
      "provenance": []
    },
    "kernelspec": {
      "name": "python3",
      "display_name": "Python 3"
    },
    "accelerator": "GPU"
  },
  "cells": [
    {
      "cell_type": "code",
      "metadata": {
        "id": "WIsHsBFqY4BX",
        "colab_type": "code",
        "colab": {}
      },
      "source": [
        "#!pip install tensorflow==2.1"
      ],
      "execution_count": 0,
      "outputs": []
    },
    {
      "cell_type": "code",
      "metadata": {
        "id": "J35MLzqcYoip",
        "colab_type": "code",
        "outputId": "e8413a90-c4cb-42cc-acf9-215069e7b742",
        "colab": {
          "base_uri": "https://localhost:8080/",
          "height": 68
        }
      },
      "source": [
        "import keras.backend as K\n",
        "import numpy as np\n",
        "import tensorflow as tf\n",
        "\n",
        "print(\"TensorFlow version: {}\".format(tf.__version__))\n",
        "print(\"Eager execution: {}\".format(tf.executing_eagerly()))"
      ],
      "execution_count": 0,
      "outputs": [
        {
          "output_type": "stream",
          "text": [
            "Using TensorFlow backend.\n"
          ],
          "name": "stderr"
        },
        {
          "output_type": "stream",
          "text": [
            "TensorFlow version: 2.1.0\n",
            "Eager execution: True\n"
          ],
          "name": "stdout"
        }
      ]
    },
    {
      "cell_type": "code",
      "metadata": {
        "id": "fMKSWefoYyfZ",
        "colab_type": "code",
        "outputId": "07ff561c-0515-4695-f56a-ac73c8722833",
        "colab": {
          "base_uri": "https://localhost:8080/",
          "height": 51
        }
      },
      "source": [
        "@tf.custom_gradient\n",
        "def O2RU(x):\n",
        "    r=2\n",
        "    g =  r*(r**2 * K.abs(x) + 1)**((1-r)/r)\n",
        "    def grad(dy):\n",
        "      return dy * g #dy = 1 \n",
        "    return K.sign(x)*((r**2 * K.abs(x) + 1)**(1/r) - 1), grad\n",
        "\n",
        "@tf.custom_gradient\n",
        "def O3RU(x):\n",
        "    r=3\n",
        "    g =  r*(r**2 * K.abs(x) + 1)**((1-r)/r)\n",
        "    def grad(dy):\n",
        "      return dy * g #dy = 1 \n",
        "    return K.sign(x)*((r**2 * K.abs(x) + 1)**(1/r) - 1), grad\n",
        "\n",
        "\n",
        "# if you want to check diff in 0, automatic diff by TF gives 0 but it should be r\n",
        "with tf.GradientTape() as g:\n",
        "  x = tf.constant([0.0])\n",
        "  g.watch(x)\n",
        "  y = O3RU(x)\n",
        "dy_dx = g.gradient(y, x)\n",
        "print(dy_dx)\n",
        "\n",
        "@tf.custom_gradient\n",
        "def E1RU(x):\n",
        "  r = 1\n",
        "  gradient = tf.where(x >= 0, r*(r**2 * x + 1)**((1-r)/r), r*K.exp(r*x))\n",
        "  def grad(dy):\n",
        "      return dy * gradient\n",
        "  return tf.where(x >= 0, (r**2 * x + 1)**(1/r) - 1/r, K.exp(r*x) - 1/r), grad\n",
        "\n",
        "@tf.custom_gradient\n",
        "def E2RU(x):\n",
        "  r = 2\n",
        "  gradient = tf.where(x >= 0, r*(r**2 * x + 1)**((1-r)/r), r*K.exp(r*x))\n",
        "  def grad(dy):\n",
        "      return dy * gradient\n",
        "  return tf.where(x >= 0, (r**2 * x + 1)**(1/r) - 1/r, K.exp(r*x) - 1/r), grad\n",
        "\n",
        "@tf.custom_gradient\n",
        "def E3RU(x):\n",
        "  r = 3\n",
        "  gradient = tf.where(x >= 0, r*(r**2 * x + 1)**((1-r)/r), r*K.exp(r*x))\n",
        "  def grad(dy):\n",
        "      return dy * gradient\n",
        "  return tf.where(x >= 0, (r**2 * x + 1)**(1/r) - 1/r, K.exp(r*x) - 1/r), grad\n",
        "\n",
        "with tf.GradientTape() as g:\n",
        "  x = tf.constant([-5.0,0.0,5.0,10.0,100.0])\n",
        "  g.watch(x)\n",
        "  y = E2RU(x)\n",
        "dy_dx = g.gradient(y, x)\n",
        "print(dy_dx)"
      ],
      "execution_count": 0,
      "outputs": [
        {
          "output_type": "stream",
          "text": [
            "tf.Tensor([3.], shape=(1,), dtype=float32)\n",
            "tf.Tensor([9.0799862e-05 2.0000000e+00 4.3643579e-01 3.1234753e-01 9.9875227e-02], shape=(5,), dtype=float32)\n"
          ],
          "name": "stdout"
        }
      ]
    },
    {
      "cell_type": "code",
      "metadata": {
        "id": "ggz271FZZtRs",
        "colab_type": "code",
        "outputId": "81feef8f-4fc8-4fe8-9c71-ee57d9272873",
        "colab": {
          "base_uri": "https://localhost:8080/",
          "height": 51
        }
      },
      "source": [
        "(x_train, y_train), (x_test, y_test) = tf.keras.datasets.cifar10.load_data()\n",
        "x_train = (x_train/255.0).reshape(x_train.shape[0], 32,32,3).astype(np.float32)\n",
        "x_test = (x_test/255.0).reshape(x_test.shape[0], 32,32,3).astype(np.float32)\n",
        "print(x_train.shape)\n",
        "print(x_test.shape)\n",
        "train_dataset = tf.data.Dataset.from_tensor_slices((x_train, y_train))\n",
        "test_dataset = tf.data.Dataset.from_tensor_slices((x_test, y_test))"
      ],
      "execution_count": 0,
      "outputs": [
        {
          "output_type": "stream",
          "text": [
            "(50000, 32, 32, 3)\n",
            "(10000, 32, 32, 3)\n"
          ],
          "name": "stdout"
        }
      ]
    },
    {
      "cell_type": "code",
      "metadata": {
        "id": "A3L_5ULmaCth",
        "colab_type": "code",
        "colab": {}
      },
      "source": [
        "BATCH_SIZE = 128\n",
        "SHUFFLE_BUFFER_SIZE = 100\n",
        "\n",
        "train_dataset = train_dataset.shuffle(SHUFFLE_BUFFER_SIZE).batch(BATCH_SIZE)\n",
        "test_dataset = test_dataset.batch(BATCH_SIZE)\n",
        "features, labels = next(iter(train_dataset))"
      ],
      "execution_count": 0,
      "outputs": []
    },
    {
      "cell_type": "code",
      "metadata": {
        "id": "9Nd55Fq9aHKj",
        "colab_type": "code",
        "colab": {}
      },
      "source": [
        "loss_object = tf.keras.losses.SparseCategoricalCrossentropy(from_logits=True)\n",
        "def loss(model, x, y, training):\n",
        "  # training=training is needed only if there are layers with different\n",
        "  # behavior during training versus inference (e.g. Dropout).\n",
        "  y_ = model(x, training=training)\n",
        "  return loss_object(y_true=y, y_pred=y_)"
      ],
      "execution_count": 0,
      "outputs": []
    },
    {
      "cell_type": "code",
      "metadata": {
        "id": "nHokitOCaKWA",
        "colab_type": "code",
        "colab": {}
      },
      "source": [
        "def grad(model, inputs, targets):\n",
        "  with tf.GradientTape() as tape:\n",
        "    loss_value = loss(model, inputs, targets, training=True)\n",
        "  return loss_value, tape.gradient(loss_value, model.trainable_variables)"
      ],
      "execution_count": 0,
      "outputs": []
    },
    {
      "cell_type": "code",
      "metadata": {
        "id": "8moBq9GqaRBk",
        "colab_type": "code",
        "colab": {}
      },
      "source": [
        "tf.compat.v1.random.set_random_seed(0)\n",
        "shape = (32,32,3)\n",
        "model_bru = tf.keras.Sequential([\n",
        "                                 tf.keras.layers.Conv2D(filters=96,kernel_size=(3,3), strides=1, padding='same', activation=E3RU, input_shape=shape),\n",
        "                                 tf.keras.layers.Conv2D(filters=96,kernel_size=(2,2), strides=1, padding='valid', activation=O3RU),\n",
        "                                 tf.keras.layers.MaxPool2D(pool_size=(3,3), strides=2, padding='valid'),\n",
        "                                 tf.keras.layers.Lambda(E1RU),\n",
        "                                 tf.keras.layers.Dropout(0.5),\n",
        "\n",
        "                                 tf.keras.layers.Conv2D(filters=192,kernel_size=(3,3), strides=1, padding='same', activation=E2RU),\n",
        "                                 tf.keras.layers.Conv2D(filters=192,kernel_size=(3,3), strides=1, padding='same', activation=O2RU),\n",
        "                                 tf.keras.layers.MaxPool2D(pool_size=(3,3), strides=2, padding='valid'),\n",
        "                                 tf.keras.layers.Lambda(E1RU),\n",
        "                                 tf.keras.layers.Dropout(0.5),\n",
        "\n",
        "                                 tf.keras.layers.Conv2D(filters=192,kernel_size=(3,3), strides=1, padding='same', activation=E2RU),\n",
        "                                 tf.keras.layers.Conv2D(filters=192,kernel_size=(1,1), strides=1, padding='same', activation=O2RU),\n",
        "                                 tf.keras.layers.Conv2D(filters=10,kernel_size=(1,1), strides=1, padding='same', activation=E1RU),\n",
        "                                 tf.keras.layers.AveragePooling2D(pool_size=(6,6), strides=1, padding='same'),\n",
        "                                 tf.keras.layers.Lambda(E1RU),\n",
        "                                 #tf.keras.layers.Dropout(0.5),\n",
        "\n",
        "                                 tf.keras.layers.Flatten(),\n",
        "                                 tf.keras.layers.Dense(10, activation='softmax')\n",
        "])\n",
        "\n",
        "model_elu = tf.keras.Sequential([\n",
        "                                 tf.keras.layers.Conv2D(filters=96,kernel_size=(3,3), strides=1, padding='same', activation='elu', input_shape=shape),\n",
        "                                 tf.keras.layers.Conv2D(filters=96,kernel_size=(2,2), strides=1, padding='valid', activation='elu'),\n",
        "                                 tf.keras.layers.MaxPool2D(pool_size=(3,3), strides=2, padding='valid'),\n",
        "                                 tf.keras.layers.Lambda(tf.nn.elu),\n",
        "                                 tf.keras.layers.Dropout(0.5),\n",
        "\n",
        "                                 tf.keras.layers.Conv2D(filters=192,kernel_size=(3,3), strides=1, padding='same', activation='elu'),\n",
        "                                 tf.keras.layers.Conv2D(filters=192,kernel_size=(3,3), strides=1, padding='same', activation='elu'),\n",
        "                                 tf.keras.layers.MaxPool2D(pool_size=(3,3), strides=2, padding='valid'),\n",
        "                                 tf.keras.layers.Lambda(tf.nn.elu),\n",
        "                                 tf.keras.layers.Dropout(0.5),\n",
        "\n",
        "                                 tf.keras.layers.Conv2D(filters=192,kernel_size=(3,3), strides=1, padding='same', activation='elu'),\n",
        "                                 tf.keras.layers.Conv2D(filters=192,kernel_size=(1,1), strides=1, padding='same', activation='elu'),\n",
        "                                 tf.keras.layers.Conv2D(filters=10,kernel_size=(1,1), strides=1, padding='same', activation='elu'),\n",
        "                                 tf.keras.layers.AveragePooling2D(pool_size=(6,6), strides=1, padding='same'),\n",
        "                                 tf.keras.layers.Lambda(tf.nn.elu),\n",
        "                                 #tf.keras.layers.Dropout(0.5),\n",
        "\n",
        "                                 tf.keras.layers.Flatten(),\n",
        "                                 tf.keras.layers.Dense(10, activation='softmax')\n",
        "])\n",
        "\n",
        "model_relu = tf.keras.Sequential([\n",
        "                                 tf.keras.layers.Conv2D(filters=96,kernel_size=(3,3), strides=1, padding='same', activation='relu', input_shape=shape),\n",
        "                                 tf.keras.layers.Conv2D(filters=96,kernel_size=(2,2), strides=1, padding='valid', activation='relu'),\n",
        "                                 tf.keras.layers.MaxPool2D(pool_size=(3,3), strides=2, padding='valid'),\n",
        "                                 tf.keras.layers.Lambda(tf.nn.relu),\n",
        "                                 tf.keras.layers.Dropout(0.5),\n",
        "\n",
        "                                 tf.keras.layers.Conv2D(filters=192,kernel_size=(3,3), strides=1, padding='same', activation='relu'),\n",
        "                                 tf.keras.layers.Conv2D(filters=192,kernel_size=(3,3), strides=1, padding='same', activation='relu'),\n",
        "                                 tf.keras.layers.MaxPool2D(pool_size=(3,3), strides=2, padding='valid'),\n",
        "                                 tf.keras.layers.Lambda(tf.nn.relu),\n",
        "                                 tf.keras.layers.Dropout(0.5),\n",
        "\n",
        "                                 tf.keras.layers.Conv2D(filters=192,kernel_size=(3,3), strides=1, padding='same', activation='relu'),\n",
        "                                 tf.keras.layers.Conv2D(filters=192,kernel_size=(1,1), strides=1, padding='same', activation='relu'),\n",
        "                                 tf.keras.layers.Conv2D(filters=10,kernel_size=(1,1), strides=1, padding='same', activation='relu'),\n",
        "                                 tf.keras.layers.AveragePooling2D(pool_size=(6,6), strides=1, padding='same'),\n",
        "                                 tf.keras.layers.Lambda(tf.nn.relu),\n",
        "                                 #tf.keras.layers.Dropout(0.5),\n",
        "\n",
        "                                 tf.keras.layers.Flatten(),\n",
        "                                 tf.keras.layers.Dense(10, activation='softmax')\n",
        "])\n",
        "\n",
        "model_leaky_relu = tf.keras.Sequential([\n",
        "                                 tf.keras.layers.Conv2D(filters=96,kernel_size=(3,3), strides=1, padding='same', activation=tf.nn.leaky_relu, input_shape=shape),\n",
        "                                 tf.keras.layers.Conv2D(filters=96,kernel_size=(2,2), strides=1, padding='valid', activation=tf.nn.leaky_relu),\n",
        "                                 tf.keras.layers.MaxPool2D(pool_size=(3,3), strides=2, padding='valid'),\n",
        "                                 tf.keras.layers.Lambda(tf.nn.leaky_relu),\n",
        "                                 tf.keras.layers.Dropout(0.5),\n",
        "\n",
        "                                 tf.keras.layers.Conv2D(filters=192,kernel_size=(3,3), strides=1, padding='same', activation=tf.nn.leaky_relu),\n",
        "                                 tf.keras.layers.Conv2D(filters=192,kernel_size=(3,3), strides=1, padding='same', activation=tf.nn.leaky_relu),\n",
        "                                 tf.keras.layers.MaxPool2D(pool_size=(3,3), strides=2, padding='valid'),\n",
        "                                 tf.keras.layers.Lambda(tf.nn.leaky_relu),\n",
        "                                 tf.keras.layers.Dropout(0.5),\n",
        "\n",
        "                                 tf.keras.layers.Conv2D(filters=192,kernel_size=(3,3), strides=1, padding='same', activation=tf.nn.leaky_relu),\n",
        "                                 tf.keras.layers.Conv2D(filters=192,kernel_size=(1,1), strides=1, padding='same', activation=tf.nn.leaky_relu),\n",
        "                                 tf.keras.layers.Conv2D(filters=10,kernel_size=(1,1), strides=1, padding='same', activation=tf.nn.leaky_relu),\n",
        "                                 tf.keras.layers.AveragePooling2D(pool_size=(6,6), strides=1, padding='same'),\n",
        "                                 tf.keras.layers.Lambda(tf.nn.leaky_relu),\n",
        "                                 #tf.keras.layers.Dropout(0.5),\n",
        "\n",
        "                                 tf.keras.layers.Flatten(),\n",
        "                                 tf.keras.layers.Dense(10, activation='softmax')\n",
        "])"
      ],
      "execution_count": 0,
      "outputs": []
    },
    {
      "cell_type": "code",
      "metadata": {
        "id": "1wcouoWcaLt3",
        "colab_type": "code",
        "outputId": "fb20c824-e9ff-43b1-d609-0cbae46f7ef0",
        "colab": {
          "base_uri": "https://localhost:8080/",
          "height": 34
        }
      },
      "source": [
        "optimizer = tf.keras.optimizers.SGD(0.01)\n",
        "\n",
        "loss_value, grads = grad(model_bru, features, labels)\n",
        "\n",
        "print(\"Step: {}, Initial Loss: {}\".format(optimizer.iterations.numpy(),loss_value.numpy()))"
      ],
      "execution_count": 0,
      "outputs": [
        {
          "output_type": "stream",
          "text": [
            "Step: 0, Initial Loss: 2.311265468597412\n"
          ],
          "name": "stdout"
        }
      ]
    },
    {
      "cell_type": "code",
      "metadata": {
        "id": "58j7G5gSaPi0",
        "colab_type": "code",
        "colab": {}
      },
      "source": [
        "import time\n",
        "\n",
        "def train(model, data, num_epochs):\n",
        "  train_loss_results = []\n",
        "  train_accuracy_results = []\n",
        "\n",
        "  epoch = 0\n",
        "  for epoch in range(num_epochs):\n",
        "    start = time.time()\n",
        "    epoch_loss_avg = tf.keras.metrics.Mean()\n",
        "    epoch_accuracy = tf.keras.metrics.SparseCategoricalAccuracy()\n",
        "\n",
        "    # Training loop - using batches of 64\n",
        "    for x, y in data:\n",
        "      # Optimize the model\n",
        "      loss_value, grads = grad(model, x, y)\n",
        "      optimizer.apply_gradients(zip(grads, model.trainable_variables))\n",
        "\n",
        "      # Track progress\n",
        "      epoch_loss_avg(loss_value)  # Add current batch loss\n",
        "      # Compare predicted label to actual label\n",
        "      # training=True is needed only if there are layers with different\n",
        "      # behavior during training versus inference (e.g. Dropout).\n",
        "      epoch_accuracy(y, model(x, training=True))\n",
        "\n",
        "    # End epoch\n",
        "    train_loss_results.append(epoch_loss_avg.result())\n",
        "    train_accuracy_results.append(epoch_accuracy.result())\n",
        "    \n",
        "    #if epoch % 50 == 0:\n",
        "    print(\"Epoch {:03d}: Loss: {:.3f}, Accuracy: {:.3%}\".format(epoch,\n",
        "                                                                epoch_loss_avg.result(),\n",
        "                                                                epoch_accuracy.result()))\n",
        "    print ('Time taken for epoch {} sec\\n'.format(time.time() - start))\n",
        "    epoch +=1\n",
        "  return train_loss_results, train_accuracy_results"
      ],
      "execution_count": 0,
      "outputs": []
    },
    {
      "cell_type": "code",
      "metadata": {
        "id": "elPwr4aHgxq5",
        "colab_type": "code",
        "outputId": "3146c1ef-63d8-40dd-cffa-aeefbd092905",
        "colab": {
          "base_uri": "https://localhost:8080/",
          "height": 1000
        }
      },
      "source": [
        "train_epoch = 40\n",
        "l_bru, a_bru = train(model_bru, train_dataset, train_epoch)"
      ],
      "execution_count": 0,
      "outputs": [
        {
          "output_type": "stream",
          "text": [
            "Epoch 000: Loss: 2.285, Accuracy: 15.166%\n",
            "Time taken for epoch 95.35191535949707 sec\n",
            "\n",
            "Epoch 001: Loss: 2.222, Accuracy: 24.060%\n",
            "Time taken for epoch 94.27204728126526 sec\n",
            "\n",
            "Epoch 002: Loss: 2.171, Accuracy: 30.656%\n",
            "Time taken for epoch 94.79860854148865 sec\n",
            "\n",
            "Epoch 003: Loss: 2.137, Accuracy: 34.418%\n",
            "Time taken for epoch 96.02852249145508 sec\n",
            "\n",
            "Epoch 004: Loss: 2.117, Accuracy: 36.350%\n",
            "Time taken for epoch 96.7067084312439 sec\n",
            "\n",
            "Epoch 005: Loss: 2.101, Accuracy: 37.842%\n",
            "Time taken for epoch 96.48412775993347 sec\n",
            "\n",
            "Epoch 006: Loss: 2.087, Accuracy: 39.434%\n",
            "Time taken for epoch 96.40634346008301 sec\n",
            "\n",
            "Epoch 007: Loss: 2.073, Accuracy: 41.210%\n",
            "Time taken for epoch 95.87389206886292 sec\n",
            "\n",
            "Epoch 008: Loss: 2.060, Accuracy: 42.676%\n",
            "Time taken for epoch 93.62319302558899 sec\n",
            "\n",
            "Epoch 009: Loss: 2.046, Accuracy: 44.240%\n",
            "Time taken for epoch 93.16230845451355 sec\n",
            "\n",
            "Epoch 010: Loss: 2.029, Accuracy: 45.914%\n",
            "Time taken for epoch 93.45180487632751 sec\n",
            "\n",
            "Epoch 011: Loss: 2.013, Accuracy: 47.712%\n",
            "Time taken for epoch 94.35872864723206 sec\n",
            "\n",
            "Epoch 012: Loss: 1.999, Accuracy: 49.134%\n",
            "Time taken for epoch 95.88690519332886 sec\n",
            "\n",
            "Epoch 013: Loss: 1.985, Accuracy: 50.790%\n",
            "Time taken for epoch 95.99969720840454 sec\n",
            "\n",
            "Epoch 014: Loss: 1.969, Accuracy: 52.498%\n",
            "Time taken for epoch 95.93140697479248 sec\n",
            "\n",
            "Epoch 015: Loss: 1.956, Accuracy: 53.732%\n",
            "Time taken for epoch 95.67192101478577 sec\n",
            "\n",
            "Epoch 016: Loss: 1.943, Accuracy: 55.284%\n",
            "Time taken for epoch 96.05010724067688 sec\n",
            "\n",
            "Epoch 017: Loss: 1.929, Accuracy: 56.636%\n",
            "Time taken for epoch 95.6250524520874 sec\n",
            "\n",
            "Epoch 018: Loss: 1.919, Accuracy: 57.808%\n",
            "Time taken for epoch 95.03592085838318 sec\n",
            "\n",
            "Epoch 019: Loss: 1.910, Accuracy: 58.638%\n",
            "Time taken for epoch 93.42944550514221 sec\n",
            "\n",
            "Epoch 020: Loss: 1.901, Accuracy: 59.622%\n",
            "Time taken for epoch 93.82239437103271 sec\n",
            "\n",
            "Epoch 021: Loss: 1.891, Accuracy: 60.538%\n",
            "Time taken for epoch 94.82213544845581 sec\n",
            "\n",
            "Epoch 022: Loss: 1.884, Accuracy: 61.350%\n",
            "Time taken for epoch 95.89832544326782 sec\n",
            "\n",
            "Epoch 023: Loss: 1.876, Accuracy: 61.868%\n",
            "Time taken for epoch 95.80861306190491 sec\n",
            "\n",
            "Epoch 024: Loss: 1.871, Accuracy: 62.422%\n",
            "Time taken for epoch 95.33056259155273 sec\n",
            "\n",
            "Epoch 025: Loss: 1.866, Accuracy: 62.946%\n",
            "Time taken for epoch 95.4480390548706 sec\n",
            "\n",
            "Epoch 026: Loss: 1.861, Accuracy: 63.432%\n",
            "Time taken for epoch 95.39679503440857 sec\n",
            "\n",
            "Epoch 027: Loss: 1.854, Accuracy: 63.978%\n",
            "Time taken for epoch 94.9680323600769 sec\n",
            "\n",
            "Epoch 028: Loss: 1.849, Accuracy: 64.546%\n",
            "Time taken for epoch 95.0656909942627 sec\n",
            "\n",
            "Epoch 029: Loss: 1.846, Accuracy: 65.006%\n",
            "Time taken for epoch 95.31307673454285 sec\n",
            "\n",
            "Epoch 030: Loss: 1.839, Accuracy: 65.354%\n",
            "Time taken for epoch 94.9959168434143 sec\n",
            "\n",
            "Epoch 031: Loss: 1.837, Accuracy: 65.512%\n",
            "Time taken for epoch 95.14910435676575 sec\n",
            "\n",
            "Epoch 032: Loss: 1.831, Accuracy: 66.144%\n",
            "Time taken for epoch 94.79211139678955 sec\n",
            "\n",
            "Epoch 033: Loss: 1.826, Accuracy: 66.458%\n",
            "Time taken for epoch 95.0864839553833 sec\n",
            "\n",
            "Epoch 034: Loss: 1.823, Accuracy: 66.910%\n",
            "Time taken for epoch 94.92900228500366 sec\n",
            "\n",
            "Epoch 035: Loss: 1.820, Accuracy: 67.114%\n",
            "Time taken for epoch 94.84262347221375 sec\n",
            "\n",
            "Epoch 036: Loss: 1.815, Accuracy: 67.494%\n",
            "Time taken for epoch 94.84836602210999 sec\n",
            "\n",
            "Epoch 037: Loss: 1.811, Accuracy: 68.070%\n",
            "Time taken for epoch 94.44138598442078 sec\n",
            "\n",
            "Epoch 038: Loss: 1.809, Accuracy: 68.032%\n",
            "Time taken for epoch 94.7489652633667 sec\n",
            "\n",
            "Epoch 039: Loss: 1.807, Accuracy: 68.474%\n",
            "Time taken for epoch 95.40356135368347 sec\n",
            "\n"
          ],
          "name": "stdout"
        }
      ]
    },
    {
      "cell_type": "code",
      "metadata": {
        "id": "Q87jrPQ_g9vF",
        "colab_type": "code",
        "outputId": "e215a7a3-70e7-4694-d0e6-f446e2779506",
        "colab": {
          "base_uri": "https://localhost:8080/",
          "height": 1000
        }
      },
      "source": [
        "l_elu, a_elu = train(model_elu, train_dataset, train_epoch)"
      ],
      "execution_count": 0,
      "outputs": [
        {
          "output_type": "stream",
          "text": [
            "Epoch 000: Loss: 2.301, Accuracy: 11.386%\n",
            "Time taken for epoch 49.41272950172424 sec\n",
            "\n",
            "Epoch 001: Loss: 2.299, Accuracy: 10.128%\n",
            "Time taken for epoch 49.771669149398804 sec\n",
            "\n",
            "Epoch 002: Loss: 2.289, Accuracy: 11.780%\n",
            "Time taken for epoch 49.778857707977295 sec\n",
            "\n",
            "Epoch 003: Loss: 2.253, Accuracy: 20.256%\n",
            "Time taken for epoch 49.783724308013916 sec\n",
            "\n",
            "Epoch 004: Loss: 2.225, Accuracy: 23.422%\n",
            "Time taken for epoch 50.006428718566895 sec\n",
            "\n",
            "Epoch 005: Loss: 2.214, Accuracy: 24.578%\n",
            "Time taken for epoch 49.94866704940796 sec\n",
            "\n",
            "Epoch 006: Loss: 2.205, Accuracy: 25.604%\n",
            "Time taken for epoch 49.7705864906311 sec\n",
            "\n",
            "Epoch 007: Loss: 2.193, Accuracy: 27.310%\n",
            "Time taken for epoch 49.80912804603577 sec\n",
            "\n",
            "Epoch 008: Loss: 2.179, Accuracy: 28.868%\n",
            "Time taken for epoch 50.231884479522705 sec\n",
            "\n",
            "Epoch 009: Loss: 2.167, Accuracy: 30.112%\n",
            "Time taken for epoch 50.03085422515869 sec\n",
            "\n",
            "Epoch 010: Loss: 2.161, Accuracy: 30.842%\n",
            "Time taken for epoch 49.985615253448486 sec\n",
            "\n",
            "Epoch 011: Loss: 2.156, Accuracy: 31.314%\n",
            "Time taken for epoch 50.00237488746643 sec\n",
            "\n",
            "Epoch 012: Loss: 2.151, Accuracy: 31.844%\n",
            "Time taken for epoch 49.8982892036438 sec\n",
            "\n",
            "Epoch 013: Loss: 2.147, Accuracy: 32.258%\n",
            "Time taken for epoch 49.96399784088135 sec\n",
            "\n",
            "Epoch 014: Loss: 2.144, Accuracy: 32.544%\n",
            "Time taken for epoch 49.93209767341614 sec\n",
            "\n",
            "Epoch 015: Loss: 2.139, Accuracy: 32.864%\n",
            "Time taken for epoch 49.821001052856445 sec\n",
            "\n",
            "Epoch 016: Loss: 2.135, Accuracy: 33.468%\n",
            "Time taken for epoch 49.753313302993774 sec\n",
            "\n",
            "Epoch 017: Loss: 2.130, Accuracy: 34.066%\n",
            "Time taken for epoch 49.41655993461609 sec\n",
            "\n",
            "Epoch 018: Loss: 2.125, Accuracy: 34.694%\n",
            "Time taken for epoch 49.382399559020996 sec\n",
            "\n",
            "Epoch 019: Loss: 2.119, Accuracy: 35.098%\n",
            "Time taken for epoch 49.37316370010376 sec\n",
            "\n",
            "Epoch 020: Loss: 2.098, Accuracy: 37.792%\n",
            "Time taken for epoch 49.745394706726074 sec\n",
            "\n",
            "Epoch 021: Loss: 2.087, Accuracy: 39.000%\n",
            "Time taken for epoch 49.55293107032776 sec\n",
            "\n",
            "Epoch 022: Loss: 2.079, Accuracy: 39.690%\n",
            "Time taken for epoch 49.47270917892456 sec\n",
            "\n",
            "Epoch 023: Loss: 2.072, Accuracy: 40.486%\n",
            "Time taken for epoch 49.61320495605469 sec\n",
            "\n",
            "Epoch 024: Loss: 2.066, Accuracy: 41.144%\n",
            "Time taken for epoch 49.54725766181946 sec\n",
            "\n",
            "Epoch 025: Loss: 2.060, Accuracy: 41.784%\n",
            "Time taken for epoch 49.33311891555786 sec\n",
            "\n",
            "Epoch 026: Loss: 2.056, Accuracy: 42.184%\n",
            "Time taken for epoch 49.46426439285278 sec\n",
            "\n",
            "Epoch 027: Loss: 2.050, Accuracy: 42.720%\n",
            "Time taken for epoch 49.24232602119446 sec\n",
            "\n",
            "Epoch 028: Loss: 2.047, Accuracy: 42.992%\n",
            "Time taken for epoch 49.079699993133545 sec\n",
            "\n",
            "Epoch 029: Loss: 2.044, Accuracy: 43.534%\n",
            "Time taken for epoch 49.15125370025635 sec\n",
            "\n",
            "Epoch 030: Loss: 2.040, Accuracy: 43.656%\n",
            "Time taken for epoch 49.28285574913025 sec\n",
            "\n",
            "Epoch 031: Loss: 2.037, Accuracy: 44.216%\n",
            "Time taken for epoch 49.35043740272522 sec\n",
            "\n",
            "Epoch 032: Loss: 2.034, Accuracy: 44.436%\n",
            "Time taken for epoch 49.356932401657104 sec\n",
            "\n",
            "Epoch 033: Loss: 2.030, Accuracy: 44.520%\n",
            "Time taken for epoch 49.715144872665405 sec\n",
            "\n",
            "Epoch 034: Loss: 2.029, Accuracy: 44.974%\n",
            "Time taken for epoch 49.707287549972534 sec\n",
            "\n",
            "Epoch 035: Loss: 2.024, Accuracy: 45.274%\n",
            "Time taken for epoch 49.50368309020996 sec\n",
            "\n",
            "Epoch 036: Loss: 2.022, Accuracy: 45.740%\n",
            "Time taken for epoch 49.69027400016785 sec\n",
            "\n",
            "Epoch 037: Loss: 2.018, Accuracy: 45.978%\n",
            "Time taken for epoch 49.562548875808716 sec\n",
            "\n",
            "Epoch 038: Loss: 2.015, Accuracy: 46.310%\n",
            "Time taken for epoch 49.58595609664917 sec\n",
            "\n",
            "Epoch 039: Loss: 2.012, Accuracy: 46.544%\n",
            "Time taken for epoch 49.870466232299805 sec\n",
            "\n"
          ],
          "name": "stdout"
        }
      ]
    },
    {
      "cell_type": "code",
      "metadata": {
        "id": "EdfJub_FkHwl",
        "colab_type": "code",
        "outputId": "0b84a5e3-4a6b-4069-e6bd-39cb5721ead0",
        "colab": {
          "base_uri": "https://localhost:8080/",
          "height": 1000
        }
      },
      "source": [
        "l_relu, a_relu = train(model_relu, train_dataset, train_epoch)"
      ],
      "execution_count": 0,
      "outputs": [
        {
          "output_type": "stream",
          "text": [
            "Epoch 000: Loss: 2.302, Accuracy: 10.022%\n",
            "Time taken for epoch 48.11630296707153 sec\n",
            "\n",
            "Epoch 001: Loss: 2.302, Accuracy: 10.000%\n",
            "Time taken for epoch 48.266438245773315 sec\n",
            "\n",
            "Epoch 002: Loss: 2.302, Accuracy: 10.000%\n",
            "Time taken for epoch 48.39504098892212 sec\n",
            "\n",
            "Epoch 003: Loss: 2.302, Accuracy: 10.000%\n",
            "Time taken for epoch 48.30947685241699 sec\n",
            "\n",
            "Epoch 004: Loss: 2.302, Accuracy: 10.000%\n",
            "Time taken for epoch 48.37385153770447 sec\n",
            "\n",
            "Epoch 005: Loss: 2.301, Accuracy: 10.000%\n",
            "Time taken for epoch 48.399008989334106 sec\n",
            "\n",
            "Epoch 006: Loss: 2.300, Accuracy: 10.000%\n",
            "Time taken for epoch 48.42073702812195 sec\n",
            "\n",
            "Epoch 007: Loss: 2.298, Accuracy: 10.000%\n",
            "Time taken for epoch 48.43233895301819 sec\n",
            "\n",
            "Epoch 008: Loss: 2.296, Accuracy: 10.006%\n",
            "Time taken for epoch 48.50907349586487 sec\n",
            "\n",
            "Epoch 009: Loss: 2.290, Accuracy: 10.222%\n",
            "Time taken for epoch 48.313626766204834 sec\n",
            "\n",
            "Epoch 010: Loss: 2.282, Accuracy: 12.596%\n",
            "Time taken for epoch 48.414029598236084 sec\n",
            "\n",
            "Epoch 011: Loss: 2.275, Accuracy: 14.714%\n",
            "Time taken for epoch 48.429712533950806 sec\n",
            "\n",
            "Epoch 012: Loss: 2.270, Accuracy: 15.264%\n",
            "Time taken for epoch 48.41451621055603 sec\n",
            "\n",
            "Epoch 013: Loss: 2.266, Accuracy: 16.460%\n",
            "Time taken for epoch 48.376261711120605 sec\n",
            "\n",
            "Epoch 014: Loss: 2.262, Accuracy: 17.492%\n",
            "Time taken for epoch 48.6364369392395 sec\n",
            "\n",
            "Epoch 015: Loss: 2.254, Accuracy: 18.574%\n",
            "Time taken for epoch 48.68633151054382 sec\n",
            "\n",
            "Epoch 016: Loss: 2.240, Accuracy: 20.522%\n",
            "Time taken for epoch 48.679091691970825 sec\n",
            "\n",
            "Epoch 017: Loss: 2.219, Accuracy: 24.036%\n",
            "Time taken for epoch 48.673144578933716 sec\n",
            "\n",
            "Epoch 018: Loss: 2.205, Accuracy: 25.734%\n",
            "Time taken for epoch 48.59260630607605 sec\n",
            "\n",
            "Epoch 019: Loss: 2.201, Accuracy: 26.160%\n",
            "Time taken for epoch 48.651851415634155 sec\n",
            "\n",
            "Epoch 020: Loss: 2.197, Accuracy: 26.330%\n",
            "Time taken for epoch 48.61392378807068 sec\n",
            "\n",
            "Epoch 021: Loss: 2.195, Accuracy: 26.832%\n",
            "Time taken for epoch 48.5204393863678 sec\n",
            "\n",
            "Epoch 022: Loss: 2.192, Accuracy: 27.112%\n",
            "Time taken for epoch 48.37191319465637 sec\n",
            "\n",
            "Epoch 023: Loss: 2.190, Accuracy: 27.508%\n",
            "Time taken for epoch 48.43051052093506 sec\n",
            "\n",
            "Epoch 024: Loss: 2.188, Accuracy: 27.826%\n",
            "Time taken for epoch 48.497615814208984 sec\n",
            "\n",
            "Epoch 025: Loss: 2.185, Accuracy: 28.312%\n",
            "Time taken for epoch 48.30280041694641 sec\n",
            "\n",
            "Epoch 026: Loss: 2.183, Accuracy: 28.574%\n",
            "Time taken for epoch 47.704345703125 sec\n",
            "\n",
            "Epoch 027: Loss: 2.180, Accuracy: 28.948%\n",
            "Time taken for epoch 47.97114086151123 sec\n",
            "\n",
            "Epoch 028: Loss: 2.177, Accuracy: 29.276%\n",
            "Time taken for epoch 48.20150828361511 sec\n",
            "\n",
            "Epoch 029: Loss: 2.173, Accuracy: 29.582%\n",
            "Time taken for epoch 48.4979681968689 sec\n",
            "\n",
            "Epoch 030: Loss: 2.170, Accuracy: 29.868%\n",
            "Time taken for epoch 49.12246012687683 sec\n",
            "\n",
            "Epoch 031: Loss: 2.168, Accuracy: 30.042%\n",
            "Time taken for epoch 48.78489565849304 sec\n",
            "\n",
            "Epoch 032: Loss: 2.165, Accuracy: 30.422%\n",
            "Time taken for epoch 48.72089076042175 sec\n",
            "\n",
            "Epoch 033: Loss: 2.163, Accuracy: 30.802%\n",
            "Time taken for epoch 48.46031832695007 sec\n",
            "\n",
            "Epoch 034: Loss: 2.160, Accuracy: 31.064%\n",
            "Time taken for epoch 48.80315637588501 sec\n",
            "\n",
            "Epoch 035: Loss: 2.157, Accuracy: 31.228%\n",
            "Time taken for epoch 48.678139209747314 sec\n",
            "\n",
            "Epoch 036: Loss: 2.155, Accuracy: 31.640%\n",
            "Time taken for epoch 48.632115840911865 sec\n",
            "\n",
            "Epoch 037: Loss: 2.152, Accuracy: 31.838%\n",
            "Time taken for epoch 48.84781098365784 sec\n",
            "\n",
            "Epoch 038: Loss: 2.149, Accuracy: 32.110%\n",
            "Time taken for epoch 48.73173379898071 sec\n",
            "\n",
            "Epoch 039: Loss: 2.147, Accuracy: 32.462%\n",
            "Time taken for epoch 48.71515703201294 sec\n",
            "\n"
          ],
          "name": "stdout"
        }
      ]
    },
    {
      "cell_type": "code",
      "metadata": {
        "id": "wnl3myQSkIQk",
        "colab_type": "code",
        "outputId": "037a2b57-c51f-4f74-dd8e-5846b7abaf3f",
        "colab": {
          "base_uri": "https://localhost:8080/",
          "height": 1000
        }
      },
      "source": [
        "l_leaky_relu, a_leaky_relu = train(model_leaky_relu, train_dataset, train_epoch)"
      ],
      "execution_count": 0,
      "outputs": [
        {
          "output_type": "stream",
          "text": [
            "Epoch 000: Loss: 2.303, Accuracy: 10.366%\n",
            "Time taken for epoch 49.84649324417114 sec\n",
            "\n",
            "Epoch 001: Loss: 2.303, Accuracy: 9.974%\n",
            "Time taken for epoch 49.823970556259155 sec\n",
            "\n",
            "Epoch 002: Loss: 2.302, Accuracy: 10.002%\n",
            "Time taken for epoch 49.51475930213928 sec\n",
            "\n",
            "Epoch 003: Loss: 2.302, Accuracy: 9.998%\n",
            "Time taken for epoch 49.66905951499939 sec\n",
            "\n",
            "Epoch 004: Loss: 2.302, Accuracy: 10.000%\n",
            "Time taken for epoch 49.742247343063354 sec\n",
            "\n",
            "Epoch 005: Loss: 2.302, Accuracy: 10.002%\n",
            "Time taken for epoch 49.98442840576172 sec\n",
            "\n",
            "Epoch 006: Loss: 2.302, Accuracy: 9.998%\n",
            "Time taken for epoch 49.894030809402466 sec\n",
            "\n",
            "Epoch 007: Loss: 2.302, Accuracy: 10.000%\n",
            "Time taken for epoch 49.94715094566345 sec\n",
            "\n",
            "Epoch 008: Loss: 2.302, Accuracy: 9.994%\n",
            "Time taken for epoch 49.77031207084656 sec\n",
            "\n",
            "Epoch 009: Loss: 2.302, Accuracy: 9.974%\n",
            "Time taken for epoch 49.73806643486023 sec\n",
            "\n",
            "Epoch 010: Loss: 2.301, Accuracy: 9.888%\n",
            "Time taken for epoch 49.675946950912476 sec\n",
            "\n",
            "Epoch 011: Loss: 2.301, Accuracy: 10.358%\n",
            "Time taken for epoch 49.636184215545654 sec\n",
            "\n",
            "Epoch 012: Loss: 2.299, Accuracy: 9.910%\n",
            "Time taken for epoch 49.55159258842468 sec\n",
            "\n",
            "Epoch 013: Loss: 2.297, Accuracy: 10.080%\n",
            "Time taken for epoch 49.80222964286804 sec\n",
            "\n",
            "Epoch 014: Loss: 2.290, Accuracy: 11.180%\n",
            "Time taken for epoch 49.744545698165894 sec\n",
            "\n",
            "Epoch 015: Loss: 2.273, Accuracy: 16.230%\n",
            "Time taken for epoch 49.59323453903198 sec\n",
            "\n",
            "Epoch 016: Loss: 2.246, Accuracy: 19.534%\n",
            "Time taken for epoch 49.633305311203 sec\n",
            "\n",
            "Epoch 017: Loss: 2.219, Accuracy: 23.726%\n",
            "Time taken for epoch 49.66179442405701 sec\n",
            "\n",
            "Epoch 018: Loss: 2.206, Accuracy: 25.044%\n",
            "Time taken for epoch 49.53882360458374 sec\n",
            "\n",
            "Epoch 019: Loss: 2.201, Accuracy: 25.688%\n",
            "Time taken for epoch 49.69021129608154 sec\n",
            "\n",
            "Epoch 020: Loss: 2.195, Accuracy: 26.304%\n",
            "Time taken for epoch 49.7819287776947 sec\n",
            "\n",
            "Epoch 021: Loss: 2.192, Accuracy: 26.986%\n",
            "Time taken for epoch 49.546958684921265 sec\n",
            "\n",
            "Epoch 022: Loss: 2.189, Accuracy: 27.366%\n",
            "Time taken for epoch 49.501357078552246 sec\n",
            "\n",
            "Epoch 023: Loss: 2.186, Accuracy: 27.684%\n",
            "Time taken for epoch 49.4055495262146 sec\n",
            "\n",
            "Epoch 024: Loss: 2.183, Accuracy: 28.018%\n",
            "Time taken for epoch 49.37996792793274 sec\n",
            "\n",
            "Epoch 025: Loss: 2.181, Accuracy: 28.572%\n",
            "Time taken for epoch 49.742775201797485 sec\n",
            "\n",
            "Epoch 026: Loss: 2.178, Accuracy: 28.772%\n",
            "Time taken for epoch 49.7435028553009 sec\n",
            "\n",
            "Epoch 027: Loss: 2.175, Accuracy: 29.298%\n",
            "Time taken for epoch 49.63627314567566 sec\n",
            "\n",
            "Epoch 028: Loss: 2.173, Accuracy: 29.676%\n",
            "Time taken for epoch 49.749324560165405 sec\n",
            "\n",
            "Epoch 029: Loss: 2.170, Accuracy: 29.918%\n",
            "Time taken for epoch 49.62485337257385 sec\n",
            "\n",
            "Epoch 030: Loss: 2.167, Accuracy: 30.252%\n",
            "Time taken for epoch 49.675063371658325 sec\n",
            "\n",
            "Epoch 031: Loss: 2.166, Accuracy: 30.500%\n",
            "Time taken for epoch 49.625308990478516 sec\n",
            "\n",
            "Epoch 032: Loss: 2.162, Accuracy: 30.702%\n",
            "Time taken for epoch 49.5915949344635 sec\n",
            "\n",
            "Epoch 033: Loss: 2.160, Accuracy: 31.022%\n",
            "Time taken for epoch 49.381521701812744 sec\n",
            "\n",
            "Epoch 034: Loss: 2.157, Accuracy: 31.132%\n",
            "Time taken for epoch 49.44562911987305 sec\n",
            "\n",
            "Epoch 035: Loss: 2.155, Accuracy: 31.430%\n",
            "Time taken for epoch 49.43383049964905 sec\n",
            "\n",
            "Epoch 036: Loss: 2.154, Accuracy: 31.598%\n",
            "Time taken for epoch 49.340245485305786 sec\n",
            "\n",
            "Epoch 037: Loss: 2.151, Accuracy: 31.758%\n",
            "Time taken for epoch 49.34993314743042 sec\n",
            "\n",
            "Epoch 038: Loss: 2.148, Accuracy: 32.188%\n",
            "Time taken for epoch 49.66358733177185 sec\n",
            "\n",
            "Epoch 039: Loss: 2.146, Accuracy: 32.334%\n",
            "Time taken for epoch 49.46626281738281 sec\n",
            "\n"
          ],
          "name": "stdout"
        }
      ]
    },
    {
      "cell_type": "code",
      "metadata": {
        "id": "nr1O6zxritd-",
        "colab_type": "code",
        "outputId": "c679a3fc-7fd8-419c-f296-caba15572500",
        "colab": {
          "base_uri": "https://localhost:8080/",
          "height": 561
        }
      },
      "source": [
        "import matplotlib.pyplot as plt\n",
        "import seaborn as sns\n",
        "sns.set()\n",
        "\n",
        "fig, axes = plt.subplots(2, sharex=True, figsize=(16, 8))\n",
        "fig.suptitle('Training Metrics')\n",
        "\n",
        "axes[0].set_ylabel(\"Loss\", fontsize=14)\n",
        "axes[0].plot(l_bru, label='BRU')\n",
        "axes[0].plot(l_elu, label='ELU')\n",
        "axes[0].plot(l_relu, label='ReLu')\n",
        "axes[0].plot(l_leaky_relu, label='Leaky ReLu')\n",
        "\n",
        "axes[1].set_ylabel(\"Accuracy\", fontsize=14)\n",
        "axes[1].set_xlabel(\"Epoch\", fontsize=14)\n",
        "axes[1].plot(a_bru, label='BRU')\n",
        "axes[1].plot(a_elu, label='ELU')\n",
        "axes[1].plot(a_relu, label='ReLu')\n",
        "axes[1].plot(a_leaky_relu, label='Leaky ReLu')\n",
        "\n",
        "plt.legend()\n",
        "plt.show()"
      ],
      "execution_count": 0,
      "outputs": [
        {
          "output_type": "display_data",
          "data": {
            "image/png": "[encoded data removed]",
            "text/plain": [
              "<Figure size 1152x576 with 2 Axes>"
            ]
          },
          "metadata": {
            "tags": []
          }
        }
      ]
    },
    {
      "cell_type": "code",
      "metadata": {
        "id": "eWuMF6QpixxW",
        "colab_type": "code",
        "colab": {}
      },
      "source": [
        "def eval(model, data):\n",
        "  epoch_loss_avg = tf.keras.metrics.Mean()\n",
        "  epoch_accuracy = tf.keras.metrics.SparseCategoricalAccuracy()\n",
        "\n",
        "  for x, y in data:\n",
        "    loss_value, _ = grad(model, x, y)\n",
        "    epoch_loss_avg(loss_value)\n",
        "    epoch_accuracy(y, model(x, training=False))\n",
        "  \n",
        "  return epoch_loss_avg.result(), epoch_accuracy.result()"
      ],
      "execution_count": 0,
      "outputs": []
    },
    {
      "cell_type": "code",
      "metadata": {
        "id": "nSb03u42iz9c",
        "colab_type": "code",
        "outputId": "0871c16a-bb53-4445-8780-69fa7dab0d5a",
        "colab": {
          "base_uri": "https://localhost:8080/",
          "height": 34
        }
      },
      "source": [
        "l, a = eval(model_bru, test_dataset)\n",
        "print(\"Loss: {:.3f}, Accuracy: {:.3%}\".format(l,a))"
      ],
      "execution_count": 0,
      "outputs": [
        {
          "output_type": "stream",
          "text": [
            "Loss: 1.816, Accuracy: 64.080%\n"
          ],
          "name": "stdout"
        }
      ]
    },
    {
      "cell_type": "code",
      "metadata": {
        "id": "WUS27xDOFjHI",
        "colab_type": "code",
        "outputId": "a0b2cba3-b8db-4066-f3bb-0bbcf8633182",
        "colab": {
          "base_uri": "https://localhost:8080/",
          "height": 34
        }
      },
      "source": [
        "l, a = eval(model_elu, test_dataset)\n",
        "print(\"Loss: {:.3f}, Accuracy: {:.3%}\".format(l,a))"
      ],
      "execution_count": 0,
      "outputs": [
        {
          "output_type": "stream",
          "text": [
            "Loss: 2.010, Accuracy: 39.490%\n"
          ],
          "name": "stdout"
        }
      ]
    },
    {
      "cell_type": "code",
      "metadata": {
        "id": "nboHyCU6Fl8e",
        "colab_type": "code",
        "outputId": "3672a011-1313-45b0-8b5c-14f444570490",
        "colab": {
          "base_uri": "https://localhost:8080/",
          "height": 34
        }
      },
      "source": [
        "l, a = eval(model_relu, test_dataset)\n",
        "print(\"Loss: {:.3f}, Accuracy: {:.3%}\".format(l,a))"
      ],
      "execution_count": 0,
      "outputs": [
        {
          "output_type": "stream",
          "text": [
            "Loss: 2.141, Accuracy: 31.260%\n"
          ],
          "name": "stdout"
        }
      ]
    },
    {
      "cell_type": "code",
      "metadata": {
        "id": "52komycUFnvq",
        "colab_type": "code",
        "outputId": "3638b051-8f7d-40be-f514-ac1a2a3a117c",
        "colab": {
          "base_uri": "https://localhost:8080/",
          "height": 34
        }
      },
      "source": [
        "l, a = eval(model_leaky_relu, test_dataset)\n",
        "print(\"Loss: {:.3f}, Accuracy: {:.3%}\".format(l,a))"
      ],
      "execution_count": 0,
      "outputs": [
        {
          "output_type": "stream",
          "text": [
            "Loss: 2.147, Accuracy: 29.590%\n"
          ],
          "name": "stdout"
        }
      ]
    },
    {
      "cell_type": "code",
      "metadata": {
        "id": "GommwmVIFqup",
        "colab_type": "code",
        "colab": {}
      },
      "source": [
        ""
      ],
      "execution_count": 0,
      "outputs": []
    }
  ]
}