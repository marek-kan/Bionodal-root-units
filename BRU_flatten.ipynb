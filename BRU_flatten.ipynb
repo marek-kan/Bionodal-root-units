{
  "nbformat": 4,
  "nbformat_minor": 0,
  "metadata": {
    "colab": {
      "name": "BRU_flatten",
      "provenance": [],
      "collapsed_sections": []
    },
    "kernelspec": {
      "name": "python3",
      "display_name": "Python 3"
    },
    "accelerator": "GPU"
  },
  "cells": [
    {
      "cell_type": "code",
      "metadata": {
        "id": "A_kyFpCnXEu5",
        "colab_type": "code",
        "colab": {}
      },
      "source": [
        "#!pip install tensorflow==2"
      ],
      "execution_count": 0,
      "outputs": []
    },
    {
      "cell_type": "code",
      "metadata": {
        "id": "8bl0HWSogxoC",
        "colab_type": "code",
        "outputId": "5a918a14-dd12-4126-ef8a-8c589da7b4a3",
        "colab": {
          "base_uri": "https://localhost:8080/",
          "height": 68
        }
      },
      "source": [
        "import keras.backend as K\n",
        "import numpy as np\n",
        "import tensorflow as tf\n",
        "\n",
        "print(\"TensorFlow version: {}\".format(tf.__version__))\n",
        "print(\"Eager execution: {}\".format(tf.executing_eagerly()))"
      ],
      "execution_count": 2,
      "outputs": [
        {
          "output_type": "stream",
          "text": [
            "Using TensorFlow backend.\n"
          ],
          "name": "stderr"
        },
        {
          "output_type": "stream",
          "text": [
            "TensorFlow version: 2.0.0\n",
            "Eager execution: True\n"
          ],
          "name": "stdout"
        }
      ]
    },
    {
      "cell_type": "code",
      "metadata": {
        "id": "qjOf8oSMXQ1n",
        "colab_type": "code",
        "outputId": "592a67bb-1ad6-478f-abe2-ae5693266ba6",
        "colab": {
          "base_uri": "https://localhost:8080/",
          "height": 34
        }
      },
      "source": [
        "@tf.custom_gradient\n",
        "def O2RU(x):\n",
        "    r=2\n",
        "    g =  r*(r**2 * K.abs(x) + 1)**((1-r)/r)\n",
        "    def grad(dy):\n",
        "      return dy * g #dy = 1 \n",
        "    return K.sign(x)*((r**2 * K.abs(x) + 1)**(1/r) - 1), grad\n",
        "\n",
        "@tf.custom_gradient\n",
        "def O3RU(x):\n",
        "    r=3\n",
        "    g =  r*(r**2 * K.abs(x) + 1)**((1-r)/r)\n",
        "    def grad(dy):\n",
        "      return dy * g #dy = 1 \n",
        "    return K.sign(x)*((r**2 * K.abs(x) + 1)**(1/r) - 1), grad\n",
        "\n",
        "\n",
        "# if you want to check diff in 0, automatic diff by TF gives 0 but it should be r\n",
        "with tf.GradientTape() as g:\n",
        "  x = tf.constant([0.0])\n",
        "  g.watch(x)\n",
        "  y = O3RU(x)\n",
        "dy_dx = g.gradient(y, x)\n",
        "print(dy_dx)"
      ],
      "execution_count": 3,
      "outputs": [
        {
          "output_type": "stream",
          "text": [
            "tf.Tensor([3.], shape=(1,), dtype=float32)\n"
          ],
          "name": "stdout"
        }
      ]
    },
    {
      "cell_type": "code",
      "metadata": {
        "id": "bnYzVIgXLlY-",
        "colab_type": "code",
        "outputId": "30781f15-e893-473b-b052-53a3292e92a5",
        "colab": {
          "base_uri": "https://localhost:8080/",
          "height": 34
        }
      },
      "source": [
        "@tf.custom_gradient\n",
        "def E2RU(x):\n",
        "  r = 2\n",
        "  gradient = tf.where(x >= 0, r*(r**2 * x + 1)**((1-r)/r), r*K.exp(r*x))\n",
        "  def grad(dy):\n",
        "      return dy * gradient\n",
        "  return tf.where(x >= 0, (r**2 * x + 1)**(1/r) - 1/r, K.exp(r*x) - 1/r), grad\n",
        "\n",
        "with tf.GradientTape() as g:\n",
        "  x = tf.constant([-5.0,0.0,5.0,10.0,100.0])\n",
        "  g.watch(x)\n",
        "  y = E2RU(x)\n",
        "dy_dx = g.gradient(y, x)\n",
        "print(dy_dx)"
      ],
      "execution_count": 4,
      "outputs": [
        {
          "output_type": "stream",
          "text": [
            "tf.Tensor([9.0799862e-05 2.0000000e+00 4.3643579e-01 3.1234753e-01 9.9875234e-02], shape=(5,), dtype=float32)\n"
          ],
          "name": "stdout"
        }
      ]
    },
    {
      "cell_type": "code",
      "metadata": {
        "id": "BuU3YstcXdl2",
        "colab_type": "code",
        "outputId": "ded945e2-cfe8-43e6-dd7c-eb56856a886d",
        "colab": {
          "base_uri": "https://localhost:8080/",
          "height": 187
        }
      },
      "source": [
        "(x_train, y_train), (x_test, y_test) = tf.keras.datasets.fashion_mnist.load_data()\n",
        "x_train = (x_train/255.0).reshape(x_train.shape[0], 28,28,1)\n",
        "x_test = (x_test/255.0).reshape(x_test.shape[0], 28,28,1)\n",
        "print(x_train.shape)\n",
        "print(x_test.shape)"
      ],
      "execution_count": 5,
      "outputs": [
        {
          "output_type": "stream",
          "text": [
            "Downloading data from https://storage.googleapis.com/tensorflow/tf-keras-datasets/train-labels-idx1-ubyte.gz\n",
            "32768/29515 [=================================] - 0s 0us/step\n",
            "Downloading data from https://storage.googleapis.com/tensorflow/tf-keras-datasets/train-images-idx3-ubyte.gz\n",
            "26427392/26421880 [==============================] - 0s 0us/step\n",
            "Downloading data from https://storage.googleapis.com/tensorflow/tf-keras-datasets/t10k-labels-idx1-ubyte.gz\n",
            "8192/5148 [===============================================] - 0s 0us/step\n",
            "Downloading data from https://storage.googleapis.com/tensorflow/tf-keras-datasets/t10k-images-idx3-ubyte.gz\n",
            "4423680/4422102 [==============================] - 0s 0us/step\n",
            "(60000, 28, 28, 1)\n",
            "(10000, 28, 28, 1)\n"
          ],
          "name": "stdout"
        }
      ]
    },
    {
      "cell_type": "code",
      "metadata": {
        "id": "TEXsUfDWgIYB",
        "colab_type": "code",
        "colab": {}
      },
      "source": [
        "train_dataset = tf.data.Dataset.from_tensor_slices((x_train, y_train))\n",
        "test_dataset = tf.data.Dataset.from_tensor_slices((x_test, y_test))"
      ],
      "execution_count": 0,
      "outputs": []
    },
    {
      "cell_type": "code",
      "metadata": {
        "id": "rpGlQ12TgUcB",
        "colab_type": "code",
        "colab": {}
      },
      "source": [
        "BATCH_SIZE = 64\n",
        "SHUFFLE_BUFFER_SIZE = 100\n",
        "\n",
        "train_dataset = train_dataset.shuffle(SHUFFLE_BUFFER_SIZE).batch(BATCH_SIZE)\n",
        "test_dataset = test_dataset.batch(BATCH_SIZE)"
      ],
      "execution_count": 0,
      "outputs": []
    },
    {
      "cell_type": "code",
      "metadata": {
        "id": "pTkpT8hhgcWH",
        "colab_type": "code",
        "outputId": "90659a0a-018c-4336-d1fe-855edc6368f3",
        "colab": {
          "base_uri": "https://localhost:8080/",
          "height": 68
        }
      },
      "source": [
        "features, labels = next(iter(train_dataset))\n",
        "\n",
        "print(labels)"
      ],
      "execution_count": 0,
      "outputs": [
        {
          "output_type": "stream",
          "text": [
            "tf.Tensor(\n",
            "[3 5 1 2 7 1 6 3 4 2 0 9 5 2 9 3 8 8 6 6 9 8 5 9 2 3 3 0 3 8 0 3 3 6 4 7 3\n",
            " 7 0 3 4 3 9 0 7 1 5 5 5 4 7 5 4 2 5 1 2 2 6 2 1 7 8 1], shape=(64,), dtype=uint8)\n"
          ],
          "name": "stdout"
        }
      ]
    },
    {
      "cell_type": "code",
      "metadata": {
        "id": "wZTee1-kaWMV",
        "colab_type": "code",
        "colab": {}
      },
      "source": [
        "tf.compat.v1.set_random_seed(0)\n",
        "model_oru = tf.keras.Sequential([\n",
        "  tf.keras.layers.Flatten(),                        \n",
        "  tf.keras.layers.Dense(128, activation=O3RU),\n",
        "  tf.keras.layers.Dense(128, activation=O3RU),\n",
        "  tf.keras.layers.Dense(128, activation=O3RU),\n",
        "  tf.keras.layers.Dense(128, activation=O3RU),\n",
        "  tf.keras.layers.Dense(128, activation=O2RU),\n",
        "  tf.keras.layers.Dense(128, activation=O2RU),\n",
        "  tf.keras.layers.Dense(128, activation=O2RU),\n",
        "  tf.keras.layers.Dense(128, activation=O2RU),\n",
        "  tf.keras.layers.Dense(10, activation='softmax')\n",
        "])\n",
        "\n",
        "model_relu = tf.keras.Sequential([\n",
        "  tf.keras.layers.Flatten(),                        \n",
        "  tf.keras.layers.Dense(128, activation='relu'),\n",
        "  tf.keras.layers.Dense(128, activation='relu'),\n",
        "  tf.keras.layers.Dense(128, activation='relu'),\n",
        "  tf.keras.layers.Dense(128, activation='relu'),\n",
        "  tf.keras.layers.Dense(128, activation='relu'),\n",
        "  tf.keras.layers.Dense(128, activation='relu'),\n",
        "  tf.keras.layers.Dense(128, activation='relu'),\n",
        "  tf.keras.layers.Dense(128, activation='relu'),\n",
        "  tf.keras.layers.Dense(10, activation='softmax')\n",
        "])\n",
        "\n",
        "model_elu = tf.keras.Sequential([\n",
        "  tf.keras.layers.Flatten(),                        \n",
        "  tf.keras.layers.Dense(128, activation='elu'),\n",
        "  tf.keras.layers.Dense(128, activation='elu'),\n",
        "  tf.keras.layers.Dense(128, activation='elu'),\n",
        "  tf.keras.layers.Dense(128, activation='elu'),                   \n",
        "  tf.keras.layers.Dense(128, activation='elu'),\n",
        "  tf.keras.layers.Dense(128, activation='elu'),\n",
        "  tf.keras.layers.Dense(128, activation='elu'),\n",
        "  tf.keras.layers.Dense(128, activation='elu'),\n",
        "  tf.keras.layers.Dense(10, activation='softmax')\n",
        "])\n",
        "\n",
        "model_leaky_relu = tf.keras.Sequential([\n",
        "  tf.keras.layers.Flatten(),                        \n",
        "  tf.keras.layers.Dense(128, activation=tf.nn.leaky_relu),\n",
        "  tf.keras.layers.Dense(128, activation=tf.nn.leaky_relu),\n",
        "  tf.keras.layers.Dense(128, activation=tf.nn.leaky_relu),\n",
        "  tf.keras.layers.Dense(128, activation=tf.nn.leaky_relu),\n",
        "  tf.keras.layers.Dense(128, activation=tf.nn.leaky_relu),\n",
        "  tf.keras.layers.Dense(128, activation=tf.nn.leaky_relu),\n",
        "  tf.keras.layers.Dense(128, activation=tf.nn.leaky_relu),\n",
        "  tf.keras.layers.Dense(128, activation=tf.nn.leaky_relu),\n",
        "  tf.keras.layers.Dense(10, activation='softmax')\n",
        "])"
      ],
      "execution_count": 0,
      "outputs": []
    },
    {
      "cell_type": "code",
      "metadata": {
        "id": "nP_w0E2HiSH4",
        "colab_type": "code",
        "colab": {}
      },
      "source": [
        "loss_object = tf.keras.losses.SparseCategoricalCrossentropy(from_logits=True)\n",
        "\n",
        "def loss(model, x, y, training):\n",
        "  # training=training is needed only if there are layers with different\n",
        "  # behavior during training versus inference (e.g. Dropout).\n",
        "  y_ = model(x, training=training)\n",
        "\n",
        "  return loss_object(y_true=y, y_pred=y_)\n",
        "\n",
        "  "
      ],
      "execution_count": 0,
      "outputs": []
    },
    {
      "cell_type": "code",
      "metadata": {
        "id": "CIV7-RfnjtKp",
        "colab_type": "code",
        "colab": {}
      },
      "source": [
        "def grad(model, inputs, targets):\n",
        "  with tf.GradientTape() as tape:\n",
        "    loss_value = loss(model, inputs, targets, training=True)\n",
        "  return loss_value, tape.gradient(loss_value, model.trainable_variables) #gradient"
      ],
      "execution_count": 0,
      "outputs": []
    },
    {
      "cell_type": "code",
      "metadata": {
        "id": "L-mZ9tgZkAH9",
        "colab_type": "code",
        "outputId": "3983222f-4c96-4f91-9c07-f1a6eee088ed",
        "colab": {
          "base_uri": "https://localhost:8080/",
          "height": 156
        }
      },
      "source": [
        "optimizer = tf.keras.optimizers.SGD(learning_rate=0.01)\n",
        "\n",
        "loss_value, grads = grad(model_oru, features, labels)\n",
        "\n",
        "print(\"Step: {}, Initial Loss: {}\".format(optimizer.iterations.numpy(),loss_value.numpy()))\n",
        "\n",
        "#optimizer.apply_gradients(zip(grads, model_oru.trainable_variables))\n",
        "\n",
        "#print(\"Step: {},         Loss: {}\".format(optimizer.iterations.numpy(),\n",
        "#                                          loss(model_oru, features, labels, training=True).numpy()))"
      ],
      "execution_count": 0,
      "outputs": [
        {
          "output_type": "stream",
          "text": [
            "WARNING:tensorflow:Layer sequential is casting an input tensor from dtype float64 to the layer's dtype of float32, which is new behavior in TensorFlow 2.  The layer has dtype float32 because it's dtype defaults to floatx.\n",
            "\n",
            "If you intended to run this layer in float32, you can safely ignore this warning. If in doubt, this warning is likely only an issue if you are porting a TensorFlow 1.X model to TensorFlow 2.\n",
            "\n",
            "To change all layers to have dtype float64 by default, call `tf.keras.backend.set_floatx('float64')`. To change just this layer, pass dtype='float64' to the layer constructor. If you are the author of this layer, you can disable autocasting by passing autocast=False to the base Layer constructor.\n",
            "\n",
            "Step: 0, Initial Loss: 2.321842670440674\n"
          ],
          "name": "stdout"
        }
      ]
    },
    {
      "cell_type": "code",
      "metadata": {
        "id": "xP3bTS-L3HLi",
        "colab_type": "code",
        "colab": {}
      },
      "source": [
        ""
      ],
      "execution_count": 0,
      "outputs": []
    },
    {
      "cell_type": "code",
      "metadata": {
        "id": "x-v26gcuGBjr",
        "colab_type": "code",
        "colab": {}
      },
      "source": [
        "import time\n",
        "\n",
        "def train(model, data, num_epochs):\n",
        "  train_loss_results = []\n",
        "  train_accuracy_results = []\n",
        "\n",
        "  epoch = 0\n",
        "  for epoch in range(num_epochs):\n",
        "    start = time.time()\n",
        "    epoch_loss_avg = tf.keras.metrics.Mean()\n",
        "    epoch_accuracy = tf.keras.metrics.SparseCategoricalAccuracy()\n",
        "\n",
        "    # Training loop - using batches of 64\n",
        "    for x, y in data:\n",
        "      # Optimize the model\n",
        "      loss_value, grads = grad(model, x, y)\n",
        "      optimizer.apply_gradients(zip(grads, model.trainable_variables))\n",
        "\n",
        "      # Track progress\n",
        "      epoch_loss_avg(loss_value)  # Add current batch loss\n",
        "      # Compare predicted label to actual label\n",
        "      # training=True is needed only if there are layers with different\n",
        "      # behavior during training versus inference (e.g. Dropout).\n",
        "      epoch_accuracy(y, model(x, training=True))\n",
        "\n",
        "    # End epoch\n",
        "    train_loss_results.append(epoch_loss_avg.result())\n",
        "    train_accuracy_results.append(epoch_accuracy.result())\n",
        "    \n",
        "    #if epoch % 50 == 0:\n",
        "    print(\"Epoch {:03d}: Loss: {:.3f}, Accuracy: {:.3%}\".format(epoch,\n",
        "                                                                epoch_loss_avg.result(),\n",
        "                                                                epoch_accuracy.result()))\n",
        "    print ('Time taken for epoch {} sec\\n'.format(time.time() - start))\n",
        "    epoch +=1\n",
        "  return train_loss_results, train_accuracy_results"
      ],
      "execution_count": 0,
      "outputs": []
    },
    {
      "cell_type": "code",
      "metadata": {
        "id": "a-LI4Y9z8f8s",
        "colab_type": "code",
        "outputId": "73cdfd3b-5fe2-405c-beb5-142e03d4448a",
        "colab": {
          "base_uri": "https://localhost:8080/",
          "height": 1000
        }
      },
      "source": [
        "l_bru, a_bru = train(model_oru, train_dataset, 25)"
      ],
      "execution_count": 0,
      "outputs": [
        {
          "output_type": "stream",
          "text": [
            "Epoch 000: Loss: 1.759, Accuracy: 74.417%\n",
            "Time taken for epoch 36.9571008682251 sec\n",
            "\n",
            "Epoch 001: Loss: 1.666, Accuracy: 82.412%\n",
            "Time taken for epoch 37.273029804229736 sec\n",
            "\n",
            "Epoch 002: Loss: 1.653, Accuracy: 83.088%\n",
            "Time taken for epoch 37.060131549835205 sec\n",
            "\n",
            "Epoch 003: Loss: 1.646, Accuracy: 83.547%\n",
            "Time taken for epoch 37.16680717468262 sec\n",
            "\n",
            "Epoch 004: Loss: 1.641, Accuracy: 83.908%\n",
            "Time taken for epoch 37.10789513587952 sec\n",
            "\n",
            "Epoch 005: Loss: 1.637, Accuracy: 84.107%\n",
            "Time taken for epoch 37.36256718635559 sec\n",
            "\n",
            "Epoch 006: Loss: 1.635, Accuracy: 84.295%\n",
            "Time taken for epoch 36.82640290260315 sec\n",
            "\n",
            "Epoch 007: Loss: 1.632, Accuracy: 84.557%\n",
            "Time taken for epoch 36.76206922531128 sec\n",
            "\n",
            "Epoch 008: Loss: 1.630, Accuracy: 84.717%\n",
            "Time taken for epoch 36.74915170669556 sec\n",
            "\n",
            "Epoch 009: Loss: 1.627, Accuracy: 84.877%\n",
            "Time taken for epoch 36.68390226364136 sec\n",
            "\n",
            "Epoch 010: Loss: 1.626, Accuracy: 84.953%\n",
            "Time taken for epoch 36.69402289390564 sec\n",
            "\n",
            "Epoch 011: Loss: 1.624, Accuracy: 85.118%\n",
            "Time taken for epoch 36.975457429885864 sec\n",
            "\n",
            "Epoch 012: Loss: 1.623, Accuracy: 85.152%\n",
            "Time taken for epoch 37.131385803222656 sec\n",
            "\n",
            "Epoch 013: Loss: 1.621, Accuracy: 85.277%\n",
            "Time taken for epoch 37.44041419029236 sec\n",
            "\n",
            "Epoch 014: Loss: 1.621, Accuracy: 85.368%\n",
            "Time taken for epoch 36.97954559326172 sec\n",
            "\n",
            "Epoch 015: Loss: 1.618, Accuracy: 85.497%\n",
            "Time taken for epoch 37.17150592803955 sec\n",
            "\n",
            "Epoch 016: Loss: 1.617, Accuracy: 85.538%\n",
            "Time taken for epoch 37.08739423751831 sec\n",
            "\n",
            "Epoch 017: Loss: 1.616, Accuracy: 85.593%\n",
            "Time taken for epoch 36.797693967819214 sec\n",
            "\n",
            "Epoch 018: Loss: 1.615, Accuracy: 85.623%\n",
            "Time taken for epoch 36.98501706123352 sec\n",
            "\n",
            "Epoch 019: Loss: 1.615, Accuracy: 85.698%\n",
            "Time taken for epoch 36.92934966087341 sec\n",
            "\n",
            "Epoch 020: Loss: 1.614, Accuracy: 85.768%\n",
            "Time taken for epoch 37.03342366218567 sec\n",
            "\n",
            "Epoch 021: Loss: 1.614, Accuracy: 85.785%\n",
            "Time taken for epoch 37.22387623786926 sec\n",
            "\n",
            "Epoch 022: Loss: 1.612, Accuracy: 85.872%\n",
            "Time taken for epoch 36.96818923950195 sec\n",
            "\n",
            "Epoch 023: Loss: 1.612, Accuracy: 85.922%\n",
            "Time taken for epoch 37.177757024765015 sec\n",
            "\n",
            "Epoch 024: Loss: 1.611, Accuracy: 85.962%\n",
            "Time taken for epoch 37.10420846939087 sec\n",
            "\n"
          ],
          "name": "stdout"
        }
      ]
    },
    {
      "cell_type": "code",
      "metadata": {
        "id": "5g6dYV10dCNw",
        "colab_type": "code",
        "outputId": "7e78421d-c988-447b-9225-51ca589ff0c8",
        "colab": {
          "base_uri": "https://localhost:8080/",
          "height": 1000
        }
      },
      "source": [
        "l_elu, a_elu = train(model_elu, train_dataset, 25)"
      ],
      "execution_count": 0,
      "outputs": [
        {
          "output_type": "stream",
          "text": [
            "WARNING:tensorflow:Layer sequential_2 is casting an input tensor from dtype float64 to the layer's dtype of float32, which is new behavior in TensorFlow 2.  The layer has dtype float32 because it's dtype defaults to floatx.\n",
            "\n",
            "If you intended to run this layer in float32, you can safely ignore this warning. If in doubt, this warning is likely only an issue if you are porting a TensorFlow 1.X model to TensorFlow 2.\n",
            "\n",
            "To change all layers to have dtype float64 by default, call `tf.keras.backend.set_floatx('float64')`. To change just this layer, pass dtype='float64' to the layer constructor. If you are the author of this layer, you can disable autocasting by passing autocast=False to the base Layer constructor.\n",
            "\n",
            "Epoch 000: Loss: 2.067, Accuracy: 45.023%\n",
            "Time taken for epoch 20.80058002471924 sec\n",
            "\n",
            "Epoch 001: Loss: 1.889, Accuracy: 58.998%\n",
            "Time taken for epoch 20.783990383148193 sec\n",
            "\n",
            "Epoch 002: Loss: 1.744, Accuracy: 74.768%\n",
            "Time taken for epoch 20.953022480010986 sec\n",
            "\n",
            "Epoch 003: Loss: 1.687, Accuracy: 79.623%\n",
            "Time taken for epoch 20.914631366729736 sec\n",
            "\n",
            "Epoch 004: Loss: 1.672, Accuracy: 80.808%\n",
            "Time taken for epoch 20.88197088241577 sec\n",
            "\n",
            "Epoch 005: Loss: 1.664, Accuracy: 81.448%\n",
            "Time taken for epoch 20.73092222213745 sec\n",
            "\n",
            "Epoch 006: Loss: 1.659, Accuracy: 81.960%\n",
            "Time taken for epoch 20.92071008682251 sec\n",
            "\n",
            "Epoch 007: Loss: 1.655, Accuracy: 82.237%\n",
            "Time taken for epoch 20.9781174659729 sec\n",
            "\n",
            "Epoch 008: Loss: 1.652, Accuracy: 82.518%\n",
            "Time taken for epoch 21.013916730880737 sec\n",
            "\n",
            "Epoch 009: Loss: 1.649, Accuracy: 82.717%\n",
            "Time taken for epoch 21.187953233718872 sec\n",
            "\n",
            "Epoch 010: Loss: 1.647, Accuracy: 82.903%\n",
            "Time taken for epoch 20.92720866203308 sec\n",
            "\n",
            "Epoch 011: Loss: 1.645, Accuracy: 83.110%\n",
            "Time taken for epoch 20.88581681251526 sec\n",
            "\n",
            "Epoch 012: Loss: 1.644, Accuracy: 83.232%\n",
            "Time taken for epoch 20.723272800445557 sec\n",
            "\n",
            "Epoch 013: Loss: 1.642, Accuracy: 83.408%\n",
            "Time taken for epoch 20.885931730270386 sec\n",
            "\n",
            "Epoch 014: Loss: 1.641, Accuracy: 83.450%\n",
            "Time taken for epoch 20.71052837371826 sec\n",
            "\n",
            "Epoch 015: Loss: 1.639, Accuracy: 83.537%\n",
            "Time taken for epoch 20.33198571205139 sec\n",
            "\n",
            "Epoch 016: Loss: 1.638, Accuracy: 83.600%\n",
            "Time taken for epoch 20.519681215286255 sec\n",
            "\n",
            "Epoch 017: Loss: 1.637, Accuracy: 83.640%\n",
            "Time taken for epoch 20.476418256759644 sec\n",
            "\n",
            "Epoch 018: Loss: 1.637, Accuracy: 83.808%\n",
            "Time taken for epoch 20.243356704711914 sec\n",
            "\n",
            "Epoch 019: Loss: 1.636, Accuracy: 83.840%\n",
            "Time taken for epoch 20.380925178527832 sec\n",
            "\n",
            "Epoch 020: Loss: 1.635, Accuracy: 83.860%\n",
            "Time taken for epoch 20.313443660736084 sec\n",
            "\n",
            "Epoch 021: Loss: 1.634, Accuracy: 83.955%\n",
            "Time taken for epoch 20.257505893707275 sec\n",
            "\n",
            "Epoch 022: Loss: 1.634, Accuracy: 84.030%\n",
            "Time taken for epoch 20.7305805683136 sec\n",
            "\n",
            "Epoch 023: Loss: 1.633, Accuracy: 84.080%\n",
            "Time taken for epoch 20.651632070541382 sec\n",
            "\n",
            "Epoch 024: Loss: 1.632, Accuracy: 84.115%\n",
            "Time taken for epoch 20.660982847213745 sec\n",
            "\n"
          ],
          "name": "stdout"
        }
      ]
    },
    {
      "cell_type": "code",
      "metadata": {
        "id": "lHj4jLCoyh3s",
        "colab_type": "code",
        "outputId": "3c6ddcd3-ff6e-4349-ea96-3c01b794e0b7",
        "colab": {
          "base_uri": "https://localhost:8080/",
          "height": 1000
        }
      },
      "source": [
        "l_relu, a_relu = train(model_relu, train_dataset, 25)"
      ],
      "execution_count": 0,
      "outputs": [
        {
          "output_type": "stream",
          "text": [
            "WARNING:tensorflow:Layer sequential_1 is casting an input tensor from dtype float64 to the layer's dtype of float32, which is new behavior in TensorFlow 2.  The layer has dtype float32 because it's dtype defaults to floatx.\n",
            "\n",
            "If you intended to run this layer in float32, you can safely ignore this warning. If in doubt, this warning is likely only an issue if you are porting a TensorFlow 1.X model to TensorFlow 2.\n",
            "\n",
            "To change all layers to have dtype float64 by default, call `tf.keras.backend.set_floatx('float64')`. To change just this layer, pass dtype='float64' to the layer constructor. If you are the author of this layer, you can disable autocasting by passing autocast=False to the base Layer constructor.\n",
            "\n",
            "Epoch 000: Loss: 2.300, Accuracy: 26.118%\n",
            "Time taken for epoch 20.293411016464233 sec\n",
            "\n",
            "Epoch 001: Loss: 2.289, Accuracy: 45.902%\n",
            "Time taken for epoch 20.299880743026733 sec\n",
            "\n",
            "Epoch 002: Loss: 2.060, Accuracy: 46.873%\n",
            "Time taken for epoch 20.060285568237305 sec\n",
            "\n",
            "Epoch 003: Loss: 1.845, Accuracy: 64.173%\n",
            "Time taken for epoch 20.23908829689026 sec\n",
            "\n",
            "Epoch 004: Loss: 1.799, Accuracy: 69.667%\n",
            "Time taken for epoch 20.21367621421814 sec\n",
            "\n",
            "Epoch 005: Loss: 1.765, Accuracy: 72.280%\n",
            "Time taken for epoch 20.186950206756592 sec\n",
            "\n",
            "Epoch 006: Loss: 1.751, Accuracy: 73.100%\n",
            "Time taken for epoch 20.387782096862793 sec\n",
            "\n",
            "Epoch 007: Loss: 1.742, Accuracy: 73.685%\n",
            "Time taken for epoch 20.177595138549805 sec\n",
            "\n",
            "Epoch 008: Loss: 1.737, Accuracy: 74.128%\n",
            "Time taken for epoch 20.167211771011353 sec\n",
            "\n",
            "Epoch 009: Loss: 1.732, Accuracy: 74.530%\n",
            "Time taken for epoch 20.329402685165405 sec\n",
            "\n",
            "Epoch 010: Loss: 1.728, Accuracy: 74.797%\n",
            "Time taken for epoch 20.194965362548828 sec\n",
            "\n",
            "Epoch 011: Loss: 1.725, Accuracy: 75.025%\n",
            "Time taken for epoch 20.277673721313477 sec\n",
            "\n",
            "Epoch 012: Loss: 1.723, Accuracy: 75.208%\n",
            "Time taken for epoch 20.47446322441101 sec\n",
            "\n",
            "Epoch 013: Loss: 1.721, Accuracy: 75.330%\n",
            "Time taken for epoch 20.215469121932983 sec\n",
            "\n",
            "Epoch 014: Loss: 1.720, Accuracy: 75.410%\n",
            "Time taken for epoch 20.55931782722473 sec\n",
            "\n",
            "Epoch 015: Loss: 1.717, Accuracy: 75.568%\n",
            "Time taken for epoch 20.296275854110718 sec\n",
            "\n",
            "Epoch 016: Loss: 1.716, Accuracy: 75.645%\n",
            "Time taken for epoch 20.253124237060547 sec\n",
            "\n",
            "Epoch 017: Loss: 1.715, Accuracy: 75.827%\n",
            "Time taken for epoch 20.27574849128723 sec\n",
            "\n",
            "Epoch 018: Loss: 1.714, Accuracy: 75.895%\n",
            "Time taken for epoch 20.165804147720337 sec\n",
            "\n",
            "Epoch 019: Loss: 1.712, Accuracy: 75.982%\n",
            "Time taken for epoch 20.22720694541931 sec\n",
            "\n",
            "Epoch 020: Loss: 1.711, Accuracy: 76.058%\n",
            "Time taken for epoch 20.324543952941895 sec\n",
            "\n",
            "Epoch 021: Loss: 1.709, Accuracy: 76.093%\n",
            "Time taken for epoch 20.271524667739868 sec\n",
            "\n",
            "Epoch 022: Loss: 1.709, Accuracy: 76.160%\n",
            "Time taken for epoch 20.356215715408325 sec\n",
            "\n",
            "Epoch 023: Loss: 1.708, Accuracy: 76.242%\n",
            "Time taken for epoch 20.259567260742188 sec\n",
            "\n",
            "Epoch 024: Loss: 1.707, Accuracy: 76.292%\n",
            "Time taken for epoch 20.35798144340515 sec\n",
            "\n"
          ],
          "name": "stdout"
        }
      ]
    },
    {
      "cell_type": "code",
      "metadata": {
        "id": "YJ76FYnNylvt",
        "colab_type": "code",
        "outputId": "44f76b84-4cd9-4059-aaaf-4163c91a601c",
        "colab": {
          "base_uri": "https://localhost:8080/",
          "height": 1000
        }
      },
      "source": [
        "l_leaky_relu, a_leaky_relu = train(model_leaky_relu, train_dataset, 25)"
      ],
      "execution_count": 0,
      "outputs": [
        {
          "output_type": "stream",
          "text": [
            "WARNING:tensorflow:Layer sequential_3 is casting an input tensor from dtype float64 to the layer's dtype of float32, which is new behavior in TensorFlow 2.  The layer has dtype float32 because it's dtype defaults to floatx.\n",
            "\n",
            "If you intended to run this layer in float32, you can safely ignore this warning. If in doubt, this warning is likely only an issue if you are porting a TensorFlow 1.X model to TensorFlow 2.\n",
            "\n",
            "To change all layers to have dtype float64 by default, call `tf.keras.backend.set_floatx('float64')`. To change just this layer, pass dtype='float64' to the layer constructor. If you are the author of this layer, you can disable autocasting by passing autocast=False to the base Layer constructor.\n",
            "\n",
            "Epoch 000: Loss: 2.300, Accuracy: 18.430%\n",
            "Time taken for epoch 21.018362283706665 sec\n",
            "\n",
            "Epoch 001: Loss: 2.265, Accuracy: 30.602%\n",
            "Time taken for epoch 20.867892026901245 sec\n",
            "\n",
            "Epoch 002: Loss: 1.960, Accuracy: 54.027%\n",
            "Time taken for epoch 21.151148557662964 sec\n",
            "\n",
            "Epoch 003: Loss: 1.775, Accuracy: 73.067%\n",
            "Time taken for epoch 20.960699558258057 sec\n",
            "\n",
            "Epoch 004: Loss: 1.717, Accuracy: 77.558%\n",
            "Time taken for epoch 21.130397081375122 sec\n",
            "\n",
            "Epoch 005: Loss: 1.697, Accuracy: 78.962%\n",
            "Time taken for epoch 20.934894561767578 sec\n",
            "\n",
            "Epoch 006: Loss: 1.686, Accuracy: 79.780%\n",
            "Time taken for epoch 20.858644723892212 sec\n",
            "\n",
            "Epoch 007: Loss: 1.679, Accuracy: 80.347%\n",
            "Time taken for epoch 20.97335410118103 sec\n",
            "\n",
            "Epoch 008: Loss: 1.674, Accuracy: 80.738%\n",
            "Time taken for epoch 20.804561138153076 sec\n",
            "\n",
            "Epoch 009: Loss: 1.669, Accuracy: 80.972%\n",
            "Time taken for epoch 20.919530153274536 sec\n",
            "\n",
            "Epoch 010: Loss: 1.666, Accuracy: 81.410%\n",
            "Time taken for epoch 21.108853816986084 sec\n",
            "\n",
            "Epoch 011: Loss: 1.663, Accuracy: 81.547%\n",
            "Time taken for epoch 21.119279861450195 sec\n",
            "\n",
            "Epoch 012: Loss: 1.660, Accuracy: 81.738%\n",
            "Time taken for epoch 20.912293434143066 sec\n",
            "\n",
            "Epoch 013: Loss: 1.659, Accuracy: 81.922%\n",
            "Time taken for epoch 21.10982894897461 sec\n",
            "\n",
            "Epoch 014: Loss: 1.656, Accuracy: 82.128%\n",
            "Time taken for epoch 20.980355739593506 sec\n",
            "\n",
            "Epoch 015: Loss: 1.654, Accuracy: 82.257%\n",
            "Time taken for epoch 20.737165927886963 sec\n",
            "\n",
            "Epoch 016: Loss: 1.653, Accuracy: 82.280%\n",
            "Time taken for epoch 21.139591217041016 sec\n",
            "\n",
            "Epoch 017: Loss: 1.650, Accuracy: 82.557%\n",
            "Time taken for epoch 20.97813868522644 sec\n",
            "\n",
            "Epoch 018: Loss: 1.649, Accuracy: 82.662%\n",
            "Time taken for epoch 20.814419746398926 sec\n",
            "\n",
            "Epoch 019: Loss: 1.648, Accuracy: 82.820%\n",
            "Time taken for epoch 21.252923250198364 sec\n",
            "\n",
            "Epoch 020: Loss: 1.646, Accuracy: 83.035%\n",
            "Time taken for epoch 20.777033805847168 sec\n",
            "\n",
            "Epoch 021: Loss: 1.645, Accuracy: 83.067%\n",
            "Time taken for epoch 20.675720691680908 sec\n",
            "\n",
            "Epoch 022: Loss: 1.643, Accuracy: 83.160%\n",
            "Time taken for epoch 20.904343366622925 sec\n",
            "\n",
            "Epoch 023: Loss: 1.642, Accuracy: 83.228%\n",
            "Time taken for epoch 20.682312965393066 sec\n",
            "\n",
            "Epoch 024: Loss: 1.641, Accuracy: 83.228%\n",
            "Time taken for epoch 20.774299383163452 sec\n",
            "\n"
          ],
          "name": "stdout"
        }
      ]
    },
    {
      "cell_type": "code",
      "metadata": {
        "id": "QDKK4LcD8onW",
        "colab_type": "code",
        "outputId": "6f2e4896-5315-4ea4-ce01-165731823bb0",
        "colab": {
          "base_uri": "https://localhost:8080/",
          "height": 561
        }
      },
      "source": [
        "import matplotlib.pyplot as plt\n",
        "import seaborn as sns\n",
        "sns.set()\n",
        "\n",
        "fig, axes = plt.subplots(2, sharex=True, figsize=(16, 8))\n",
        "fig.suptitle('Training Metrics')\n",
        "\n",
        "axes[0].set_ylabel(\"Loss\", fontsize=14)\n",
        "axes[0].plot(l_bru, label='BRU')\n",
        "axes[0].plot(l_elu, label='ELU')\n",
        "axes[0].plot(l_relu, label='ReLu')\n",
        "axes[0].plot(l_leaky_relu, label='Leaky ReLu')\n",
        "\n",
        "axes[1].set_ylabel(\"Accuracy\", fontsize=14)\n",
        "axes[1].set_xlabel(\"Epoch\", fontsize=14)\n",
        "axes[1].plot(a_bru, label='BRU')\n",
        "axes[1].plot(a_elu, label='ELU')\n",
        "axes[1].plot(a_relu, label='ReLu')\n",
        "axes[1].plot(a_leaky_relu, label='Leaky ReLu')\n",
        "\n",
        "plt.legend()\n",
        "plt.show()"
      ],
      "execution_count": 0,
      "outputs": [
        {
          "output_type": "display_data",
          "data": {
            "image/png": "[encoded data removed]",
            "text/plain": [
              "<Figure size 1152x576 with 2 Axes>"
            ]
          },
          "metadata": {
            "tags": []
          }
        }
      ]
    },
    {
      "cell_type": "code",
      "metadata": {
        "id": "4zuKjBCG9Go5",
        "colab_type": "code",
        "colab": {}
      },
      "source": [
        "def eval(model, data):\n",
        "  epoch_loss_avg = tf.keras.metrics.Mean()\n",
        "  epoch_accuracy = tf.keras.metrics.SparseCategoricalAccuracy()\n",
        "\n",
        "  for x, y in data:\n",
        "    loss_value, _ = grad(model, x, y)\n",
        "    epoch_loss_avg(loss_value)\n",
        "    epoch_accuracy(y, model(x, training=False))\n",
        "  \n",
        "  return epoch_loss_avg.result(), epoch_accuracy.result()\n"
      ],
      "execution_count": 0,
      "outputs": []
    },
    {
      "cell_type": "code",
      "metadata": {
        "id": "dccHvQ-X-i4v",
        "colab_type": "code",
        "outputId": "62d39e97-62ff-4bd7-e002-03df2a0cacac",
        "colab": {
          "base_uri": "https://localhost:8080/",
          "height": 34
        }
      },
      "source": [
        "l, a = eval(model_oru, test_dataset)\n",
        "print(\"Loss: {:.3f}, Accuracy: {:.3%}\".format(l,a))"
      ],
      "execution_count": 0,
      "outputs": [
        {
          "output_type": "stream",
          "text": [
            "Loss: 1.637, Accuracy: 82.280%\n"
          ],
          "name": "stdout"
        }
      ]
    },
    {
      "cell_type": "code",
      "metadata": {
        "id": "RzDMUrSQ_Btk",
        "colab_type": "code",
        "outputId": "4239448a-d13e-4131-fd59-db0c526d1340",
        "colab": {
          "base_uri": "https://localhost:8080/",
          "height": 34
        }
      },
      "source": [
        "l, a = eval(model_elu, test_dataset)\n",
        "print(\"Loss: {:.3f}, Accuracy: {:.3%}\".format(l,a))"
      ],
      "execution_count": 0,
      "outputs": [
        {
          "output_type": "stream",
          "text": [
            "Loss: 1.647, Accuracy: 81.410%\n"
          ],
          "name": "stdout"
        }
      ]
    },
    {
      "cell_type": "code",
      "metadata": {
        "id": "lx-ViiY-_Ke5",
        "colab_type": "code",
        "outputId": "f5e62543-4d6a-4217-ca13-1f7fc09c1361",
        "colab": {
          "base_uri": "https://localhost:8080/",
          "height": 34
        }
      },
      "source": [
        "l, a = eval(model_relu, test_dataset)\n",
        "print(\"Loss: {:.3f}, Accuracy: {:.3%}\".format(l,a))"
      ],
      "execution_count": 0,
      "outputs": [
        {
          "output_type": "stream",
          "text": [
            "Loss: 1.718, Accuracy: 74.270%\n"
          ],
          "name": "stdout"
        }
      ]
    },
    {
      "cell_type": "code",
      "metadata": {
        "id": "zj96Xm8n_ONu",
        "colab_type": "code",
        "outputId": "59a80bfc-7564-447d-dd07-171cd9c20fff",
        "colab": {
          "base_uri": "https://localhost:8080/",
          "height": 34
        }
      },
      "source": [
        "l, a = eval(model_leaky_relu, test_dataset)\n",
        "print(\"Loss: {:.3f}, Accuracy: {:.3%}\".format(l,a))"
      ],
      "execution_count": 0,
      "outputs": [
        {
          "output_type": "stream",
          "text": [
            "Loss: 1.652, Accuracy: 80.860%\n"
          ],
          "name": "stdout"
        }
      ]
    },
    {
      "cell_type": "code",
      "metadata": {
        "id": "LT1OBC2ldZiR",
        "colab_type": "code",
        "colab": {}
      },
      "source": [
        "tf.compat.v1.set_random_seed(0)\n",
        "model_bru = tf.keras.Sequential([\n",
        "  tf.keras.layers.Flatten(),                        \n",
        "  tf.keras.layers.Dense(128, activation=O3RU),\n",
        "  tf.keras.layers.Dense(128, activation=O3RU),\n",
        "  tf.keras.layers.Dense(128, activation=O3RU),\n",
        "  tf.keras.layers.Dense(128, activation=O3RU),\n",
        "  tf.keras.layers.Dense(128, activation=O2RU),\n",
        "  tf.keras.layers.Dense(128, activation=O2RU),\n",
        "  tf.keras.layers.Dense(128, activation=O2RU),\n",
        "  tf.keras.layers.Dense(128, activation=O2RU),\n",
        "  tf.keras.layers.Dense(10, activation='softmax')\n",
        "])\n",
        "\n",
        "model_relu = tf.keras.Sequential([\n",
        "  tf.keras.layers.Flatten(),                        \n",
        "  tf.keras.layers.Dense(128, activation='relu'),\n",
        "  tf.keras.layers.Dense(128, activation='relu'),\n",
        "  tf.keras.layers.Dense(128, activation='relu'),\n",
        "  tf.keras.layers.Dense(128, activation='relu'),\n",
        "  tf.keras.layers.Dense(128, activation='relu'),\n",
        "  tf.keras.layers.Dense(128, activation='relu'),\n",
        "  tf.keras.layers.Dense(128, activation='relu'),\n",
        "  tf.keras.layers.Dense(128, activation='relu'),\n",
        "  tf.keras.layers.Dense(10, activation='softmax')\n",
        "])\n",
        "\n",
        "model_elu = tf.keras.Sequential([\n",
        "  tf.keras.layers.Flatten(),                        \n",
        "  tf.keras.layers.Dense(128, activation='elu'),\n",
        "  tf.keras.layers.Dense(128, activation='elu'),\n",
        "  tf.keras.layers.Dense(128, activation='elu'),\n",
        "  tf.keras.layers.Dense(128, activation='elu'),                   \n",
        "  tf.keras.layers.Dense(128, activation='elu'),\n",
        "  tf.keras.layers.Dense(128, activation='elu'),\n",
        "  tf.keras.layers.Dense(128, activation='elu'),\n",
        "  tf.keras.layers.Dense(128, activation='elu'),\n",
        "  tf.keras.layers.Dense(10, activation='softmax')\n",
        "])\n",
        "\n",
        "model_leaky_relu = tf.keras.Sequential([\n",
        "  tf.keras.layers.Flatten(),                        \n",
        "  tf.keras.layers.Dense(128, activation=tf.nn.leaky_relu),\n",
        "  tf.keras.layers.Dense(128, activation=tf.nn.leaky_relu),\n",
        "  tf.keras.layers.Dense(128, activation=tf.nn.leaky_relu),\n",
        "  tf.keras.layers.Dense(128, activation=tf.nn.leaky_relu),\n",
        "  tf.keras.layers.Dense(128, activation=tf.nn.leaky_relu),\n",
        "  tf.keras.layers.Dense(128, activation=tf.nn.leaky_relu),\n",
        "  tf.keras.layers.Dense(128, activation=tf.nn.leaky_relu),\n",
        "  tf.keras.layers.Dense(128, activation=tf.nn.leaky_relu),\n",
        "  tf.keras.layers.Dense(10, activation='softmax')\n",
        "])\n",
        "optimizer = tf.keras.optimizers.SGD(learning_rate=0.01)"
      ],
      "execution_count": 0,
      "outputs": []
    },
    {
      "cell_type": "code",
      "metadata": {
        "id": "IiauYdx7BqrP",
        "colab_type": "code",
        "colab": {}
      },
      "source": [
        "import time\n",
        "def train_test(model, train_data, test_data, num_epochs):\n",
        "  train_loss_results = []\n",
        "  test_loss_results = []\n",
        "\n",
        "  epoch = 0\n",
        "  for epoch in range(num_epochs):\n",
        "    start = time.time()\n",
        "    epoch_loss_avg = tf.keras.metrics.Mean()\n",
        "    test_loss_avg = tf.keras.metrics.Mean()\n",
        "\n",
        "    # Training loop - using batches of 64\n",
        "    for x, y in train_data:\n",
        "      # Optimize the model\n",
        "      loss_value, grads = grad(model, x, y)\n",
        "      optimizer.apply_gradients(zip(grads, model.trainable_variables))\n",
        "      # Track progress\n",
        "      epoch_loss_avg(loss_value)  # Add current batch loss\n",
        "      \n",
        "    for x_test, y_test in test_data:\n",
        "      loss_test = loss(model, x_test, y_test, False)\n",
        "      test_loss_avg(loss_test)\n",
        "\n",
        "    # End epoch\n",
        "    train_loss_results.append(epoch_loss_avg.result())\n",
        "    test_loss_results.append(test_loss_avg.result())\n",
        "    if epoch % 5 == 0:\n",
        "      print(\"Epoch {:03d}: Loss: {:.3f}\".format(epoch,epoch_loss_avg.result()))\n",
        "      print(\"Test Loss: {:.3f}\".format(test_loss_avg.result()))\n",
        "      print ('Time taken for epoch {} sec\\n'.format(time.time() - start))\n",
        "    epoch +=1\n",
        "  return train_loss_results, test_loss_results"
      ],
      "execution_count": 0,
      "outputs": []
    },
    {
      "cell_type": "code",
      "metadata": {
        "id": "1NCZmwtLCH0X",
        "colab_type": "code",
        "colab": {
          "base_uri": "https://localhost:8080/",
          "height": 1000
        },
        "outputId": "35ea4b16-630e-4bc6-a1e3-4b842f3caebc"
      },
      "source": [
        "epoch = 100\n",
        "t_loss_bru, test_loss_bru = train_test(model_bru, train_dataset, test_dataset, epoch)"
      ],
      "execution_count": 25,
      "outputs": [
        {
          "output_type": "stream",
          "text": [
            "WARNING:tensorflow:Layer sequential_16 is casting an input tensor from dtype float64 to the layer's dtype of float32, which is new behavior in TensorFlow 2.  The layer has dtype float32 because it's dtype defaults to floatx.\n",
            "\n",
            "If you intended to run this layer in float32, you can safely ignore this warning. If in doubt, this warning is likely only an issue if you are porting a TensorFlow 1.X model to TensorFlow 2.\n",
            "\n",
            "To change all layers to have dtype float64 by default, call `tf.keras.backend.set_floatx('float64')`. To change just this layer, pass dtype='float64' to the layer constructor. If you are the author of this layer, you can disable autocasting by passing autocast=False to the base Layer constructor.\n",
            "\n",
            "Epoch 000: Loss: 1.760\n",
            "Test Loss: 1.692\n",
            "Time taken for epoch 20.1548330783844 sec\n",
            "\n",
            "Epoch 005: Loss: 1.638\n",
            "Test Loss: 1.654\n",
            "Time taken for epoch 21.21803092956543 sec\n",
            "\n",
            "Epoch 010: Loss: 1.625\n",
            "Test Loss: 1.650\n",
            "Time taken for epoch 21.016664505004883 sec\n",
            "\n",
            "Epoch 015: Loss: 1.619\n",
            "Test Loss: 1.644\n",
            "Time taken for epoch 20.506439208984375 sec\n",
            "\n",
            "Epoch 020: Loss: 1.615\n",
            "Test Loss: 1.640\n",
            "Time taken for epoch 20.293667554855347 sec\n",
            "\n",
            "Epoch 025: Loss: 1.611\n",
            "Test Loss: 1.650\n",
            "Time taken for epoch 20.197365283966064 sec\n",
            "\n",
            "Epoch 030: Loss: 1.608\n",
            "Test Loss: 1.637\n",
            "Time taken for epoch 21.086885690689087 sec\n",
            "\n",
            "Epoch 035: Loss: 1.606\n",
            "Test Loss: 1.635\n",
            "Time taken for epoch 20.963247537612915 sec\n",
            "\n",
            "Epoch 040: Loss: 1.604\n",
            "Test Loss: 1.636\n",
            "Time taken for epoch 21.265634059906006 sec\n",
            "\n",
            "Epoch 045: Loss: 1.602\n",
            "Test Loss: 1.633\n",
            "Time taken for epoch 21.350565671920776 sec\n",
            "\n",
            "Epoch 050: Loss: 1.578\n",
            "Test Loss: 1.606\n",
            "Time taken for epoch 20.973829984664917 sec\n",
            "\n",
            "Epoch 055: Loss: 1.565\n",
            "Test Loss: 1.598\n",
            "Time taken for epoch 20.810025930404663 sec\n",
            "\n",
            "Epoch 060: Loss: 1.558\n",
            "Test Loss: 1.589\n",
            "Time taken for epoch 20.982036352157593 sec\n",
            "\n",
            "Epoch 065: Loss: 1.552\n",
            "Test Loss: 1.592\n",
            "Time taken for epoch 21.097970962524414 sec\n",
            "\n",
            "Epoch 070: Loss: 1.549\n",
            "Test Loss: 1.590\n",
            "Time taken for epoch 21.122246980667114 sec\n",
            "\n",
            "Epoch 075: Loss: 1.545\n",
            "Test Loss: 1.601\n",
            "Time taken for epoch 20.777318000793457 sec\n",
            "\n",
            "Epoch 080: Loss: 1.542\n",
            "Test Loss: 1.588\n",
            "Time taken for epoch 21.048889636993408 sec\n",
            "\n",
            "Epoch 085: Loss: 1.540\n",
            "Test Loss: 1.627\n",
            "Time taken for epoch 21.034427881240845 sec\n",
            "\n",
            "Epoch 090: Loss: 1.535\n",
            "Test Loss: 1.591\n",
            "Time taken for epoch 20.5926194190979 sec\n",
            "\n",
            "Epoch 095: Loss: 1.535\n",
            "Test Loss: 1.592\n",
            "Time taken for epoch 20.470521926879883 sec\n",
            "\n"
          ],
          "name": "stdout"
        }
      ]
    },
    {
      "cell_type": "code",
      "metadata": {
        "id": "tPJ8VKQ2CPwR",
        "colab_type": "code",
        "colab": {
          "base_uri": "https://localhost:8080/",
          "height": 1000
        },
        "outputId": "942a2ce9-01b8-4d22-f576-e39e2f63a009"
      },
      "source": [
        "t_loss_elu, test_loss_elu = train_test(model_elu, train_dataset, test_dataset, epoch)"
      ],
      "execution_count": 26,
      "outputs": [
        {
          "output_type": "stream",
          "text": [
            "WARNING:tensorflow:Layer sequential_18 is casting an input tensor from dtype float64 to the layer's dtype of float32, which is new behavior in TensorFlow 2.  The layer has dtype float32 because it's dtype defaults to floatx.\n",
            "\n",
            "If you intended to run this layer in float32, you can safely ignore this warning. If in doubt, this warning is likely only an issue if you are porting a TensorFlow 1.X model to TensorFlow 2.\n",
            "\n",
            "To change all layers to have dtype float64 by default, call `tf.keras.backend.set_floatx('float64')`. To change just this layer, pass dtype='float64' to the layer constructor. If you are the author of this layer, you can disable autocasting by passing autocast=False to the base Layer constructor.\n",
            "\n",
            "Epoch 000: Loss: 2.067\n",
            "Test Loss: 1.925\n",
            "Time taken for epoch 13.0104660987854 sec\n",
            "\n",
            "Epoch 005: Loss: 1.664\n",
            "Test Loss: 1.668\n",
            "Time taken for epoch 13.115968227386475 sec\n",
            "\n",
            "Epoch 010: Loss: 1.647\n",
            "Test Loss: 1.657\n",
            "Time taken for epoch 13.234277725219727 sec\n",
            "\n",
            "Epoch 015: Loss: 1.640\n",
            "Test Loss: 1.651\n",
            "Time taken for epoch 12.977270126342773 sec\n",
            "\n",
            "Epoch 020: Loss: 1.635\n",
            "Test Loss: 1.649\n",
            "Time taken for epoch 13.170380353927612 sec\n",
            "\n",
            "Epoch 025: Loss: 1.632\n",
            "Test Loss: 1.646\n",
            "Time taken for epoch 13.052745342254639 sec\n",
            "\n",
            "Epoch 030: Loss: 1.629\n",
            "Test Loss: 1.650\n",
            "Time taken for epoch 13.00364875793457 sec\n",
            "\n",
            "Epoch 035: Loss: 1.627\n",
            "Test Loss: 1.645\n",
            "Time taken for epoch 13.092642784118652 sec\n",
            "\n",
            "Epoch 040: Loss: 1.625\n",
            "Test Loss: 1.645\n",
            "Time taken for epoch 13.153367757797241 sec\n",
            "\n",
            "Epoch 045: Loss: 1.623\n",
            "Test Loss: 1.643\n",
            "Time taken for epoch 13.167656183242798 sec\n",
            "\n",
            "Epoch 050: Loss: 1.622\n",
            "Test Loss: 1.643\n",
            "Time taken for epoch 13.290850162506104 sec\n",
            "\n",
            "Epoch 055: Loss: 1.620\n",
            "Test Loss: 1.642\n",
            "Time taken for epoch 12.799748182296753 sec\n",
            "\n",
            "Epoch 060: Loss: 1.619\n",
            "Test Loss: 1.651\n",
            "Time taken for epoch 12.952644109725952 sec\n",
            "\n",
            "Epoch 065: Loss: 1.617\n",
            "Test Loss: 1.640\n",
            "Time taken for epoch 13.235031843185425 sec\n",
            "\n",
            "Epoch 070: Loss: 1.617\n",
            "Test Loss: 1.640\n",
            "Time taken for epoch 12.878310680389404 sec\n",
            "\n",
            "Epoch 075: Loss: 1.616\n",
            "Test Loss: 1.637\n",
            "Time taken for epoch 13.499715089797974 sec\n",
            "\n",
            "Epoch 080: Loss: 1.615\n",
            "Test Loss: 1.637\n",
            "Time taken for epoch 13.444691181182861 sec\n",
            "\n",
            "Epoch 085: Loss: 1.614\n",
            "Test Loss: 1.636\n",
            "Time taken for epoch 13.20657467842102 sec\n",
            "\n",
            "Epoch 090: Loss: 1.613\n",
            "Test Loss: 1.640\n",
            "Time taken for epoch 13.460783958435059 sec\n",
            "\n",
            "Epoch 095: Loss: 1.612\n",
            "Test Loss: 1.640\n",
            "Time taken for epoch 13.342782497406006 sec\n",
            "\n"
          ],
          "name": "stdout"
        }
      ]
    },
    {
      "cell_type": "code",
      "metadata": {
        "id": "fabv_KieCXEy",
        "colab_type": "code",
        "colab": {
          "base_uri": "https://localhost:8080/",
          "height": 1000
        },
        "outputId": "c048614e-f624-4f8b-d9b1-2722009cbbb0"
      },
      "source": [
        "t_loss_relu, test_loss_relu = train_test(model_relu, train_dataset, test_dataset, epoch)"
      ],
      "execution_count": 27,
      "outputs": [
        {
          "output_type": "stream",
          "text": [
            "WARNING:tensorflow:Layer sequential_17 is casting an input tensor from dtype float64 to the layer's dtype of float32, which is new behavior in TensorFlow 2.  The layer has dtype float32 because it's dtype defaults to floatx.\n",
            "\n",
            "If you intended to run this layer in float32, you can safely ignore this warning. If in doubt, this warning is likely only an issue if you are porting a TensorFlow 1.X model to TensorFlow 2.\n",
            "\n",
            "To change all layers to have dtype float64 by default, call `tf.keras.backend.set_floatx('float64')`. To change just this layer, pass dtype='float64' to the layer constructor. If you are the author of this layer, you can disable autocasting by passing autocast=False to the base Layer constructor.\n",
            "\n",
            "Epoch 000: Loss: 2.300\n",
            "Test Loss: 2.298\n",
            "Time taken for epoch 12.34449553489685 sec\n",
            "\n",
            "Epoch 005: Loss: 1.765\n",
            "Test Loss: 1.763\n",
            "Time taken for epoch 11.763380527496338 sec\n",
            "\n",
            "Epoch 010: Loss: 1.728\n",
            "Test Loss: 1.735\n",
            "Time taken for epoch 11.733027219772339 sec\n",
            "\n",
            "Epoch 015: Loss: 1.717\n",
            "Test Loss: 1.722\n",
            "Time taken for epoch 12.858717441558838 sec\n",
            "\n",
            "Epoch 020: Loss: 1.711\n",
            "Test Loss: 1.727\n",
            "Time taken for epoch 12.62708830833435 sec\n",
            "\n",
            "Epoch 025: Loss: 1.706\n",
            "Test Loss: 1.717\n",
            "Time taken for epoch 11.981975078582764 sec\n",
            "\n",
            "Epoch 030: Loss: 1.703\n",
            "Test Loss: 1.717\n",
            "Time taken for epoch 11.74882960319519 sec\n",
            "\n",
            "Epoch 035: Loss: 1.700\n",
            "Test Loss: 1.713\n",
            "Time taken for epoch 11.856110572814941 sec\n",
            "\n",
            "Epoch 040: Loss: 1.697\n",
            "Test Loss: 1.713\n",
            "Time taken for epoch 12.123719930648804 sec\n",
            "\n",
            "Epoch 045: Loss: 1.695\n",
            "Test Loss: 1.711\n",
            "Time taken for epoch 12.017961978912354 sec\n",
            "\n",
            "Epoch 050: Loss: 1.693\n",
            "Test Loss: 1.708\n",
            "Time taken for epoch 11.750566482543945 sec\n",
            "\n",
            "Epoch 055: Loss: 1.691\n",
            "Test Loss: 1.708\n",
            "Time taken for epoch 11.762694597244263 sec\n",
            "\n",
            "Epoch 060: Loss: 1.690\n",
            "Test Loss: 1.711\n",
            "Time taken for epoch 12.012699127197266 sec\n",
            "\n",
            "Epoch 065: Loss: 1.689\n",
            "Test Loss: 1.707\n",
            "Time taken for epoch 11.639386653900146 sec\n",
            "\n",
            "Epoch 070: Loss: 1.688\n",
            "Test Loss: 1.721\n",
            "Time taken for epoch 11.476637363433838 sec\n",
            "\n",
            "Epoch 075: Loss: 1.687\n",
            "Test Loss: 1.715\n",
            "Time taken for epoch 11.486411333084106 sec\n",
            "\n",
            "Epoch 080: Loss: 1.686\n",
            "Test Loss: 1.704\n",
            "Time taken for epoch 11.699462890625 sec\n",
            "\n",
            "Epoch 085: Loss: 1.686\n",
            "Test Loss: 1.707\n",
            "Time taken for epoch 11.46736741065979 sec\n",
            "\n",
            "Epoch 090: Loss: 1.685\n",
            "Test Loss: 1.705\n",
            "Time taken for epoch 11.378700971603394 sec\n",
            "\n",
            "Epoch 095: Loss: 1.684\n",
            "Test Loss: 1.704\n",
            "Time taken for epoch 11.45121145248413 sec\n",
            "\n"
          ],
          "name": "stdout"
        }
      ]
    },
    {
      "cell_type": "code",
      "metadata": {
        "id": "3I7lxLwNCY8E",
        "colab_type": "code",
        "colab": {
          "base_uri": "https://localhost:8080/",
          "height": 1000
        },
        "outputId": "f81e2c2c-963c-4be9-a408-1bc25ef93f35"
      },
      "source": [
        "t_loss_leaky_relu, test_loss_leaky_relu = train_test(model_leaky_relu, train_dataset, test_dataset, epoch)"
      ],
      "execution_count": 28,
      "outputs": [
        {
          "output_type": "stream",
          "text": [
            "WARNING:tensorflow:Layer sequential_19 is casting an input tensor from dtype float64 to the layer's dtype of float32, which is new behavior in TensorFlow 2.  The layer has dtype float32 because it's dtype defaults to floatx.\n",
            "\n",
            "If you intended to run this layer in float32, you can safely ignore this warning. If in doubt, this warning is likely only an issue if you are porting a TensorFlow 1.X model to TensorFlow 2.\n",
            "\n",
            "To change all layers to have dtype float64 by default, call `tf.keras.backend.set_floatx('float64')`. To change just this layer, pass dtype='float64' to the layer constructor. If you are the author of this layer, you can disable autocasting by passing autocast=False to the base Layer constructor.\n",
            "\n",
            "Epoch 000: Loss: 2.300\n",
            "Test Loss: 2.297\n",
            "Time taken for epoch 12.054328680038452 sec\n",
            "\n",
            "Epoch 005: Loss: 1.697\n",
            "Test Loss: 1.705\n",
            "Time taken for epoch 11.955799579620361 sec\n",
            "\n",
            "Epoch 010: Loss: 1.666\n",
            "Test Loss: 1.675\n",
            "Time taken for epoch 12.072635173797607 sec\n",
            "\n",
            "Epoch 015: Loss: 1.654\n",
            "Test Loss: 1.661\n",
            "Time taken for epoch 12.140474796295166 sec\n",
            "\n",
            "Epoch 020: Loss: 1.645\n",
            "Test Loss: 1.656\n",
            "Time taken for epoch 12.124380588531494 sec\n",
            "\n",
            "Epoch 025: Loss: 1.640\n",
            "Test Loss: 1.653\n",
            "Time taken for epoch 11.688659191131592 sec\n",
            "\n",
            "Epoch 030: Loss: 1.635\n",
            "Test Loss: 1.647\n",
            "Time taken for epoch 11.637368440628052 sec\n",
            "\n",
            "Epoch 035: Loss: 1.632\n",
            "Test Loss: 1.648\n",
            "Time taken for epoch 11.707270383834839 sec\n",
            "\n",
            "Epoch 040: Loss: 1.629\n",
            "Test Loss: 1.643\n",
            "Time taken for epoch 11.918973684310913 sec\n",
            "\n",
            "Epoch 045: Loss: 1.626\n",
            "Test Loss: 1.650\n",
            "Time taken for epoch 11.573977947235107 sec\n",
            "\n",
            "Epoch 050: Loss: 1.624\n",
            "Test Loss: 1.642\n",
            "Time taken for epoch 11.743234157562256 sec\n",
            "\n",
            "Epoch 055: Loss: 1.622\n",
            "Test Loss: 1.647\n",
            "Time taken for epoch 11.836367845535278 sec\n",
            "\n",
            "Epoch 060: Loss: 1.620\n",
            "Test Loss: 1.641\n",
            "Time taken for epoch 11.810109615325928 sec\n",
            "\n",
            "Epoch 065: Loss: 1.618\n",
            "Test Loss: 1.644\n",
            "Time taken for epoch 11.65783953666687 sec\n",
            "\n",
            "Epoch 070: Loss: 1.616\n",
            "Test Loss: 1.643\n",
            "Time taken for epoch 11.46599817276001 sec\n",
            "\n",
            "Epoch 075: Loss: 1.614\n",
            "Test Loss: 1.649\n",
            "Time taken for epoch 11.968708515167236 sec\n",
            "\n",
            "Epoch 080: Loss: 1.614\n",
            "Test Loss: 1.643\n",
            "Time taken for epoch 11.880574941635132 sec\n",
            "\n",
            "Epoch 085: Loss: 1.612\n",
            "Test Loss: 1.641\n",
            "Time taken for epoch 11.537169933319092 sec\n",
            "\n",
            "Epoch 090: Loss: 1.611\n",
            "Test Loss: 1.636\n",
            "Time taken for epoch 11.918659210205078 sec\n",
            "\n",
            "Epoch 095: Loss: 1.609\n",
            "Test Loss: 1.647\n",
            "Time taken for epoch 12.140971183776855 sec\n",
            "\n"
          ],
          "name": "stdout"
        }
      ]
    },
    {
      "cell_type": "code",
      "metadata": {
        "id": "31_0HBDfCd_g",
        "colab_type": "code",
        "colab": {
          "base_uri": "https://localhost:8080/",
          "height": 519
        },
        "outputId": "53c2aafb-2e84-4f61-d0d3-f45502cb7a15"
      },
      "source": [
        "import matplotlib.pyplot as plt\n",
        "import seaborn as sns\n",
        "sns.set()\n",
        "\n",
        "plt.figure(figsize=(16, 8))\n",
        "plt.title('Training Metrics')\n",
        "\n",
        "plt.ylabel(\"Loss\", fontsize=14)\n",
        "plt.xlabel(\"Epoch\", fontsize=14)\n",
        "plt.plot(t_loss_bru, label='BRU')\n",
        "plt.plot(t_loss_elu, label='ELU')\n",
        "plt.plot(t_loss_relu, label='ReLu')\n",
        "plt.plot(t_loss_leaky_relu, label='Leaky ReLu')\n",
        "\n",
        "plt.legend()\n",
        "plt.show()"
      ],
      "execution_count": 29,
      "outputs": [
        {
          "output_type": "display_data",
          "data": {
            "image/png": "[encoded data removed]",
            "text/plain": [
              "<Figure size 1152x576 with 1 Axes>"
            ]
          },
          "metadata": {
            "tags": []
          }
        }
      ]
    },
    {
      "cell_type": "code",
      "metadata": {
        "id": "kNMU3b0rCgo8",
        "colab_type": "code",
        "colab": {
          "base_uri": "https://localhost:8080/",
          "height": 519
        },
        "outputId": "ddc25ad6-7fcd-499f-afb3-1952441f3681"
      },
      "source": [
        "plt.figure(figsize=(16, 8))\n",
        "plt.title('Testing Metrics')\n",
        "\n",
        "plt.ylabel(\"Loss\", fontsize=14)\n",
        "plt.xlabel(\"Epoch\", fontsize=14)\n",
        "plt.plot(test_loss_bru, label='BRU')\n",
        "plt.plot(test_loss_elu, label='ELU')\n",
        "plt.plot(test_loss_relu, label='ReLu')\n",
        "plt.plot(test_loss_leaky_relu, label='Leaky ReLu')\n",
        "\n",
        "plt.legend()\n",
        "plt.show()"
      ],
      "execution_count": 30,
      "outputs": [
        {
          "output_type": "display_data",
          "data": {
            "image/png": "[encoded data removed]",
            "text/plain": [
              "<Figure size 1152x576 with 1 Axes>"
            ]
          },
          "metadata": {
            "tags": []
          }
        }
      ]
    },
    {
      "cell_type": "code",
      "metadata": {
        "id": "U-xwsKwyr-J4",
        "colab_type": "code",
        "colab": {}
      },
      "source": [
        "# of corse i forgot to print losses at 100th epoch\n",
        "def eval_100(train_data, test_data, model):\n",
        "  train_loss_avg = tf.keras.metrics.Mean()\n",
        "  test_loss_avg = tf.keras.metrics.Mean()\n",
        "  for x, y in train_data:\n",
        "    l = loss(model, x, y, False)\n",
        "    train_loss_avg(l)\n",
        "  for x, y in test_data:\n",
        "    l = loss(model, x, y, False)\n",
        "    test_loss_avg(l)\n",
        "  return train_loss_avg.result(), test_loss_avg.result()"
      ],
      "execution_count": 0,
      "outputs": []
    },
    {
      "cell_type": "code",
      "metadata": {
        "id": "XwqfQfq8tdeP",
        "colab_type": "code",
        "colab": {
          "base_uri": "https://localhost:8080/",
          "height": 34
        },
        "outputId": "b7d8df6b-0481-413f-f192-566c93ddd6c5"
      },
      "source": [
        "l_tr, l_te = eval_100(train_dataset, test_dataset, model_bru)\n",
        "print(l_tr, l_te)"
      ],
      "execution_count": 33,
      "outputs": [
        {
          "output_type": "stream",
          "text": [
            "tf.Tensor(1.5335268, shape=(), dtype=float32) tf.Tensor(1.5873206, shape=(), dtype=float32)\n"
          ],
          "name": "stdout"
        }
      ]
    },
    {
      "cell_type": "code",
      "metadata": {
        "id": "tKxFp6cItkQx",
        "colab_type": "code",
        "colab": {
          "base_uri": "https://localhost:8080/",
          "height": 34
        },
        "outputId": "1f8d8442-4025-46e9-c008-96386c9e529d"
      },
      "source": [
        "l_tr, l_te = eval_100(train_dataset, test_dataset, model_elu)\n",
        "print(l_tr, l_te)"
      ],
      "execution_count": 36,
      "outputs": [
        {
          "output_type": "stream",
          "text": [
            "tf.Tensor(1.6141874, shape=(), dtype=float32) tf.Tensor(1.6355089, shape=(), dtype=float32)\n"
          ],
          "name": "stdout"
        }
      ]
    },
    {
      "cell_type": "code",
      "metadata": {
        "id": "1wG4Axx2uHrW",
        "colab_type": "code",
        "colab": {
          "base_uri": "https://localhost:8080/",
          "height": 34
        },
        "outputId": "a70b9b77-a366-40ab-daab-020d1eb869cb"
      },
      "source": [
        "l_tr, l_te = eval_100(train_dataset, test_dataset, model_relu)\n",
        "print(l_tr, l_te)"
      ],
      "execution_count": 37,
      "outputs": [
        {
          "output_type": "stream",
          "text": [
            "tf.Tensor(1.683478, shape=(), dtype=float32) tf.Tensor(1.7035041, shape=(), dtype=float32)\n"
          ],
          "name": "stdout"
        }
      ]
    },
    {
      "cell_type": "code",
      "metadata": {
        "id": "kOnb511EuIxz",
        "colab_type": "code",
        "colab": {
          "base_uri": "https://localhost:8080/",
          "height": 34
        },
        "outputId": "b872698f-a3f6-4195-834a-3b6e0ca5e9ff"
      },
      "source": [
        "l_tr, l_te = eval_100(train_dataset, test_dataset, model_leaky_relu)\n",
        "print(l_tr, l_te)"
      ],
      "execution_count": 38,
      "outputs": [
        {
          "output_type": "stream",
          "text": [
            "tf.Tensor(1.6177182, shape=(), dtype=float32) tf.Tensor(1.6423231, shape=(), dtype=float32)\n"
          ],
          "name": "stdout"
        }
      ]
    },
    {
      "cell_type": "code",
      "metadata": {
        "id": "k_e-aOXyuKl4",
        "colab_type": "code",
        "colab": {}
      },
      "source": [
        ""
      ],
      "execution_count": 0,
      "outputs": []
    }
  ]
}